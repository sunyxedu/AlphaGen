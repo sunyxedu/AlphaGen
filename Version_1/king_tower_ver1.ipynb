{
 "cells": [
  {
   "cell_type": "code",
   "execution_count": 1,
   "metadata": {},
   "outputs": [
    {
     "data": {
      "text/plain": [
       "'/root'"
      ]
     },
     "execution_count": 1,
     "metadata": {},
     "output_type": "execute_result"
    }
   ],
   "source": [
    "import os\n",
    "os.getcwd()"
   ]
  },
  {
   "cell_type": "code",
   "execution_count": 2,
   "metadata": {
    "tags": []
   },
   "outputs": [],
   "source": [
    "# !unzip Match_Data.zip"
   ]
  },
  {
   "cell_type": "code",
   "execution_count": 3,
   "metadata": {
    "tags": []
   },
   "outputs": [],
   "source": [
    "import gc"
   ]
  },
  {
   "cell_type": "code",
   "execution_count": 4,
   "metadata": {},
   "outputs": [],
   "source": [
    "import pickle\n",
    "import os\n",
    "Name = ['MeltedToast', 'Mithraaaa']\n",
    "feat = []\n",
    "army = []\n",
    "Y = []\n",
    "id = []\n",
    "for name in Name:\n",
    "    file_path = '/root/Match_Data/'+name\n",
    "    replays = os.listdir(file_path)\n",
    "    for item in replays:\n",
    "        replay_path = file_path + '/' + item\n",
    "        with open(replay_path,\"rb\") as file:\n",
    "            total = pickle.load(file)\n",
    "            feat.append(total[\"features\"])\n",
    "            army.append(total[\"armies\"])\n",
    "            Y.append(total[\"kings\"])\n",
    "            id.append(total[\"id\"])\n",
    "\n",
    "# print(len(X))\n",
    "# print(data[0])"
   ]
  },
  {
   "cell_type": "code",
   "execution_count": 5,
   "metadata": {
    "tags": []
   },
   "outputs": [
    {
     "name": "stdout",
     "output_type": "stream",
     "text": [
      "2099\n"
     ]
    }
   ],
   "source": [
    "mx = 0\n",
    "feat_new = []\n",
    "army_new = []\n",
    "Y_new = []\n",
    "for item in range(0,10374):\n",
    "    mx = max(mx, len(Y[item]))\n",
    "    if (len(Y[item])<=1000):\n",
    "        feat_new.append(feat[item])\n",
    "        army_new.append(army[item])\n",
    "        Y_new.append(Y[item])\n",
    "        # print(id[item])\n",
    "print(mx)\n",
    "del feat, army, Y, id\n",
    "gc.collect()\n",
    "import random\n",
    "random_integers = random.sample(range(0, 10001), 3000)\n",
    "# print(random_integers)\n",
    "feat = [feat_new[item]for item in random_integers]\n",
    "army = [army_new[item]for item in random_integers]\n",
    "Y = [Y_new[item]for item in random_integers]"
   ]
  },
  {
   "cell_type": "code",
   "execution_count": 6,
   "metadata": {},
   "outputs": [
    {
     "data": {
      "text/plain": [
       "0"
      ]
     },
     "execution_count": 6,
     "metadata": {},
     "output_type": "execute_result"
    }
   ],
   "source": [
    "del feat_new, army_new, Y_new\n",
    "gc.collect()"
   ]
  },
  {
   "cell_type": "code",
   "execution_count": 7,
   "metadata": {
    "tags": []
   },
   "outputs": [
    {
     "name": "stdout",
     "output_type": "stream",
     "text": [
      "[(0, 10), (0, 10), (0, 10), (0, 10), (0, 10), (0, 10), (0, 10), (0, 10), (0, 10), (0, 10), (0, 10), (0, 10), (0, 10), (0, 10), (0, 10), (0, 10), (0, 10), (0, 10), (0, 10), (0, 10), (0, 10), (0, 10), (0, 10), (0, 10), (0, 10), (0, 10), (0, 10), (0, 10), (0, 10), (0, 10), (0, 10), (0, 10), (0, 10), (0, 10), (0, 10), (0, 10), (0, 10), (0, 10), (0, 10), (0, 10), (0, 10), (0, 10), (0, 10), (0, 10), (0, 10), (0, 10), (0, 10), (0, 10), (0, 10), (0, 10), (0, 10), (0, 10), (0, 10), (0, 10), (0, 10), (0, 10), (0, 10), (0, 10), (0, 10), (0, 10), (0, 10), (0, 10), (0, 10), (0, 10), (0, 10), (0, 10), (0, 10), (0, 10), (0, 10), (0, 10), (0, 10), (0, 10), (0, 10), (0, 10), (0, 10), (0, 10), (0, 10), (0, 10), (0, 10), (0, 10), (0, 10), (0, 10), (0, 10), (0, 10), (0, 10), (0, 10), (0, 10), (0, 10), (0, 10), (0, 10), (0, 10), (0, 10), (0, 10), (0, 10), (0, 10), (0, 10), (0, 10), (0, 10), (0, 10), (0, 10), (0, 10), (0, 10), (0, 10), (0, 10), (0, 10), (0, 10), (0, 10), (0, 10), (0, 10), (0, 10), (0, 10), (0, 10), (0, 10), (0, 10), (0, 10), (0, 10), (0, 10), (0, 10), (0, 10), (0, 10), (0, 10), (0, 10), (0, 10), (0, 10), (0, 10), (0, 10), (0, 10), (0, 10), (0, 10), (0, 10), (0, 10), (0, 10), (0, 10), (0, 10), (0, 10), (0, 10), (0, 10), (0, 10), (0, 10), (0, 10), (0, 10), (0, 10), (0, 10), (0, 10), (0, 10), (0, 10), (0, 10), (0, 10), (0, 10), (0, 10), (0, 10), (0, 10), (0, 10), (0, 10), (0, 10), (0, 10), (0, 10), (0, 10), (0, 10), (0, 10), (0, 10), (0, 10), (0, 10), (0, 10), (0, 10), (0, 10), (0, 10), (0, 10), (0, 10), (0, 10), (0, 10), (0, 10), (0, 10), (0, 10), (0, 10), (0, 10), (0, 10), (0, 10), (0, 10), (0, 10), (0, 10), (0, 10), (0, 10), (0, 10), (0, 10), (0, 10), (0, 10), (0, 10), (0, 10), (0, 10), (0, 10), (0, 10), (0, 10), (0, 10), (0, 10), (0, 10)]\n"
     ]
    }
   ],
   "source": [
    "print(Y[0])"
   ]
  },
  {
   "cell_type": "code",
   "execution_count": 8,
   "metadata": {},
   "outputs": [
    {
     "name": "stdout",
     "output_type": "stream",
     "text": [
      "3000\n"
     ]
    }
   ],
   "source": [
    "import numpy as np\n",
    "print(len(feat))\n",
    "def transform_to_numpy(X):\n",
    "    res = []\n",
    "    for item in X:\n",
    "        XX = []\n",
    "        flag=0\n",
    "        for item2 in item:\n",
    "            try:\n",
    "                # print(item2)\n",
    "                # print(\"TRY1: \",get_list_depth(item2),len(item2),)\n",
    "                XX.append(np.array(item2))\n",
    "            except ValueError as e:\n",
    "                print(item2)\n",
    "                # print(\"TRY2: \",get_list_depth(item2),len(item2))\n",
    "                flag=1\n",
    "                break\n",
    "        if flag:\n",
    "            break\n",
    "        res.append(np.array(XX))\n",
    "    return res\n",
    "\n",
    "feat_np = transform_to_numpy(feat)\n",
    "army_np = transform_to_numpy(army)\n",
    "Y_np = []\n",
    "for item in Y:\n",
    "    Y_np.append(np.array(item))\n",
    "# print(Y_np[0])"
   ]
  },
  {
   "cell_type": "code",
   "execution_count": 12,
   "metadata": {},
   "outputs": [
    {
     "data": {
      "text/plain": [
       "1156"
      ]
     },
     "execution_count": 12,
     "metadata": {},
     "output_type": "execute_result"
    }
   ],
   "source": [
    "del feat\n",
    "del army\n",
    "del Y\n",
    "gc.collect()"
   ]
  },
  {
   "cell_type": "code",
   "execution_count": 13,
   "metadata": {},
   "outputs": [
    {
     "name": "stderr",
     "output_type": "stream",
     "text": [
      "2024-09-20 14:13:55.445373: I tensorflow/core/util/util.cc:169] oneDNN custom operations are on. You may see slightly different numerical results due to floating-point round-off errors from different computation orders. To turn them off, set the environment variable `TF_ENABLE_ONEDNN_OPTS=0`.\n"
     ]
    }
   ],
   "source": [
    "from tensorflow.keras.preprocessing.sequence import pad_sequences\n",
    "feat_flatten = [[step.flatten() for step in sequence] for sequence in feat_np]\n",
    "feat_padded_flat = pad_sequences(feat_flatten, padding='post', value=-1.0)\n",
    "feat_padded = np.array([np.array([step.reshape(25, 25) for step in sequence]) for sequence in feat_padded_flat])\n",
    "\n",
    "army_flatten = [[step.flatten() for step in sequence] for sequence in army_np]\n",
    "army_padded_flat = pad_sequences(army_flatten, padding='post', value=-1.0)\n",
    "army_padded = np.array([np.array([step.reshape(25, 25) for step in sequence]) for sequence in army_padded_flat])\n",
    "\n",
    "Y_flatten = [[step.flatten() for step in sequence] for sequence in Y_np]\n",
    "Y_padded_flat = pad_sequences(Y_flatten, padding='post', value=-1.0)\n",
    "Y_padded = np.array([np.array([step.reshape(1, 2) for step in sequence]) for sequence in Y_padded_flat])"
   ]
  },
  {
   "cell_type": "code",
   "execution_count": 14,
   "metadata": {},
   "outputs": [
    {
     "data": {
      "text/plain": [
       "0"
      ]
     },
     "execution_count": 14,
     "metadata": {},
     "output_type": "execute_result"
    }
   ],
   "source": [
    "del feat_np,army_np,Y_np\n",
    "gc.collect()"
   ]
  },
  {
   "cell_type": "code",
   "execution_count": 16,
   "metadata": {},
   "outputs": [
    {
     "name": "stdout",
     "output_type": "stream",
     "text": [
      "(3000, 992, 25, 25)\n",
      "(3000, 992, 25, 25)\n",
      "(3000, 992, 1, 2)\n"
     ]
    }
   ],
   "source": [
    "print(feat_padded.shape)\n",
    "print(army_padded.shape)\n",
    "print(Y_padded.shape)"
   ]
  },
  {
   "cell_type": "code",
   "execution_count": 17,
   "metadata": {},
   "outputs": [
    {
     "name": "stderr",
     "output_type": "stream",
     "text": [
      "2024-09-20 14:14:26.458411: I tensorflow/core/platform/cpu_feature_guard.cc:193] This TensorFlow binary is optimized with oneAPI Deep Neural Network Library (oneDNN) to use the following CPU instructions in performance-critical operations:  AVX2 AVX512F AVX512_VNNI FMA\n",
      "To enable them in other operations, rebuild TensorFlow with the appropriate compiler flags.\n",
      "2024-09-20 14:14:26.896289: I tensorflow/core/common_runtime/gpu/gpu_device.cc:1532] Created device /job:localhost/replica:0/task:0/device:GPU:0 with 22134 MB memory:  -> device: 0, name: NVIDIA GeForce RTX 4090, pci bus id: 0000:2e:00.0, compute capability: 8.9\n"
     ]
    },
    {
     "name": "stdout",
     "output_type": "stream",
     "text": [
      "Model: \"model\"\n",
      "__________________________________________________________________________________________________\n",
      " Layer (type)                   Output Shape         Param #     Connected to                     \n",
      "==================================================================================================\n",
      " input_1 (InputLayer)           [(None, None, 25, 2  0           []                               \n",
      "                                5, 1)]                                                            \n",
      "                                                                                                  \n",
      " input_2 (InputLayer)           [(None, None, 25, 2  0           []                               \n",
      "                                5, 1)]                                                            \n",
      "                                                                                                  \n",
      " time_distributed (TimeDistribu  (None, None, 23, 23  320        ['input_1[0][0]']                \n",
      " ted)                           , 32)                                                             \n",
      "                                                                                                  \n",
      " time_distributed_2 (TimeDistri  (None, None, 23, 23  320        ['input_2[0][0]']                \n",
      " buted)                         , 32)                                                             \n",
      "                                                                                                  \n",
      " time_distributed_1 (TimeDistri  (None, None, 16928)  0          ['time_distributed[0][0]']       \n",
      " buted)                                                                                           \n",
      "                                                                                                  \n",
      " time_distributed_3 (TimeDistri  (None, None, 16928)  0          ['time_distributed_2[0][0]']     \n",
      " buted)                                                                                           \n",
      "                                                                                                  \n",
      " concatenate (Concatenate)      (None, None, 33856)  0           ['time_distributed_1[0][0]',     \n",
      "                                                                  'time_distributed_3[0][0]']     \n",
      "                                                                                                  \n",
      " lstm (LSTM)                    (None, None, 64)     8683776     ['concatenate[0][0]']            \n",
      "                                                                                                  \n",
      " dense (Dense)                  (None, None, 50)     3250        ['lstm[0][0]']                   \n",
      "                                                                                                  \n",
      " reshape (Reshape)              (None, None, 2, 25)  0           ['dense[0][0]']                  \n",
      "                                                                                                  \n",
      " activation (Activation)        (None, None, 2, 25)  0           ['reshape[0][0]']                \n",
      "                                                                                                  \n",
      "==================================================================================================\n",
      "Total params: 8,687,666\n",
      "Trainable params: 8,687,666\n",
      "Non-trainable params: 0\n",
      "__________________________________________________________________________________________________\n"
     ]
    }
   ],
   "source": [
    "import tensorflow as tf\n",
    "from tensorflow.keras.models import Model\n",
    "from tensorflow.keras.layers import Input, Conv2D, Flatten, LSTM, Dense, TimeDistributed, Concatenate, Reshape, Activation\n",
    "from keras import backend as K\n",
    "\n",
    "# Input\n",
    "input_1 = Input(shape=(None, 25, 25, 1))\n",
    "input_2 = Input(shape=(None, 25, 25, 1))\n",
    "\n",
    "# Conv2D & Flatten\n",
    "conv1_1 = TimeDistributed(Conv2D(filters=32, kernel_size=(3, 3), activation='relu'))(input_1)\n",
    "conv1_1 = TimeDistributed(Flatten())(conv1_1)\n",
    "\n",
    "conv1_2 = TimeDistributed(Conv2D(filters=32, kernel_size=(3, 3), activation='relu'))(input_2)\n",
    "conv1_2 = TimeDistributed(Flatten())(conv1_2)\n",
    "\n",
    "merged = Concatenate(axis=-1)([conv1_1, conv1_2])\n",
    "\n",
    "# LSTM Layer\n",
    "lstm_out = LSTM(units=64, return_sequences=True, recurrent_activation='sigmoid')(merged)\n",
    "\n",
    "# 50 Units: 2 Classification, Each 25 options\n",
    "dense_out = Dense(units=50)(lstm_out)\n",
    "\n",
    "# Shape: (batch_size, time_steps, 2, 25)\n",
    "reshaped_out = Reshape((-1, 2, 25))(dense_out)\n",
    "\n",
    "output = Activation('softmax')(reshaped_out)\n",
    "\n",
    "model = Model(inputs=[input_1, input_2], outputs=output)\n",
    "\n",
    "def loss_func(y_true, y_pred):\n",
    "    ignore_steps = 20\n",
    "    y_true = tf.cast(y_true, tf.float32)\n",
    "    y_pred_labels = tf.cast(tf.argmax(y_pred, axis=-1), tf.float32)\n",
    "    print(y_pred_labels.shape, y_true.shape)\n",
    "    time_steps = tf.shape(y_true)[1]\n",
    "    \n",
    "    mask = tf.reduce_all(tf.equal(y_true, -1), axis=-1)\n",
    "    mask = tf.cast(mask, dtype=tf.float32)\n",
    "    \n",
    "    loss = tf.abs(y_pred_labels[:, ignore_steps:, :] - y_true[:, ignore_steps:, :])\n",
    "    loss = loss * (1 - mask[:, ignore_steps:])[:, :, None]\n",
    "    return tf.reduce_mean(loss)\n",
    "\n",
    "model.compile(optimizer='adam', loss=\"categorical_crossentropy\")\n",
    "\n",
    "model.summary()\n"
   ]
  },
  {
   "cell_type": "code",
   "execution_count": 18,
   "metadata": {
    "tags": []
   },
   "outputs": [
    {
     "name": "stdout",
     "output_type": "stream",
     "text": [
      "Looking in indexes: http://mirrors.aliyun.com/pypi/simple\n",
      "Requirement already satisfied: scikit-learn in ./miniconda3/lib/python3.8/site-packages (1.3.2)\n",
      "Requirement already satisfied: scipy>=1.5.0 in ./miniconda3/lib/python3.8/site-packages (from scikit-learn) (1.10.1)\n",
      "Requirement already satisfied: threadpoolctl>=2.0.0 in ./miniconda3/lib/python3.8/site-packages (from scikit-learn) (3.5.0)\n",
      "Requirement already satisfied: numpy<2.0,>=1.17.3 in ./miniconda3/lib/python3.8/site-packages (from scikit-learn) (1.23.1)\n",
      "Requirement already satisfied: joblib>=1.1.1 in ./miniconda3/lib/python3.8/site-packages (from scikit-learn) (1.4.2)\n",
      "\u001b[33mWARNING: Running pip as the 'root' user can result in broken permissions and conflicting behaviour with the system package manager. It is recommended to use a virtual environment instead: https://pip.pypa.io/warnings/venv\u001b[0m\n"
     ]
    }
   ],
   "source": [
    "!pip install scikit-learn"
   ]
  },
  {
   "cell_type": "code",
   "execution_count": 19,
   "metadata": {},
   "outputs": [],
   "source": [
    "from sklearn.model_selection import train_test_split\n",
    "\n",
    "X1_train, X1_test, X2_train, X2_test, y_train, y_test = train_test_split(\n",
    "    feat_padded, army_padded, Y_padded, test_size=0.2, random_state=42\n",
    ")"
   ]
  },
  {
   "cell_type": "code",
   "execution_count": 20,
   "metadata": {},
   "outputs": [
    {
     "data": {
      "text/plain": [
       "3144"
      ]
     },
     "execution_count": 20,
     "metadata": {},
     "output_type": "execute_result"
    }
   ],
   "source": [
    "del feat_padded, army_padded, Y_padded\n",
    "gc.collect()"
   ]
  },
  {
   "cell_type": "code",
   "execution_count": 21,
   "metadata": {},
   "outputs": [
    {
     "name": "stdout",
     "output_type": "stream",
     "text": [
      "(2400, 992, 1, 2)\n"
     ]
    }
   ],
   "source": [
    "print(y_train.shape)"
   ]
  },
  {
   "cell_type": "code",
   "execution_count": 22,
   "metadata": {},
   "outputs": [],
   "source": [
    "y_train = np.squeeze(y_train, axis=2)\n",
    "y_test = np.squeeze(y_test, axis=2)"
   ]
  },
  {
   "cell_type": "code",
   "execution_count": 23,
   "metadata": {},
   "outputs": [],
   "source": [
    "num_classes = 25\n",
    "\n",
    "y_train_class_1 = tf.one_hot(y_train[..., 0], depth=num_classes)\n",
    "y_train_class_2 = tf.one_hot(y_train[..., 1], depth=num_classes)\n",
    "y_train_categorical = tf.stack([y_train_class_1, y_train_class_2], axis=-2)\n",
    "\n",
    "y_test_class_1 = tf.one_hot(y_test[..., 0], depth=num_classes)\n",
    "y_test_class_2 = tf.one_hot(y_test[..., 1], depth=num_classes)\n",
    "y_test_categorical = tf.stack([y_test_class_1, y_test_class_2], axis=-2)"
   ]
  },
  {
   "cell_type": "code",
   "execution_count": 24,
   "metadata": {},
   "outputs": [
    {
     "name": "stdout",
     "output_type": "stream",
     "text": [
      "(2400, 992, 2, 25)\n",
      "(600, 992, 2, 25)\n"
     ]
    }
   ],
   "source": [
    "print(y_train_categorical.shape)\n",
    "print(y_test_categorical.shape)"
   ]
  },
  {
   "cell_type": "code",
   "execution_count": 25,
   "metadata": {},
   "outputs": [
    {
     "name": "stdout",
     "output_type": "stream",
     "text": [
      "(2400, 992, 25, 25)\n",
      "(2400, 992, 25, 25)\n",
      "(2400, 992, 2)\n"
     ]
    }
   ],
   "source": [
    "print(X1_train.shape)\n",
    "print(X2_train.shape)\n",
    "print(y_train.shape)"
   ]
  },
  {
   "cell_type": "code",
   "execution_count": 27,
   "metadata": {
    "tags": []
   },
   "outputs": [
    {
     "name": "stdout",
     "output_type": "stream",
     "text": [
      "Epoch 1/100\n",
      "150/150 [==============================] - 27s 142ms/step - loss: 0.5835\n",
      "Epoch 2/100\n",
      "150/150 [==============================] - 22s 148ms/step - loss: 0.5295\n",
      "Epoch 3/100\n",
      "150/150 [==============================] - 21s 143ms/step - loss: 0.4822\n",
      "Epoch 4/100\n",
      "150/150 [==============================] - 20s 131ms/step - loss: 0.4367\n",
      "Epoch 5/100\n",
      "150/150 [==============================] - 20s 133ms/step - loss: 0.4046\n",
      "Epoch 6/100\n",
      "150/150 [==============================] - 22s 146ms/step - loss: 0.3840\n",
      "Epoch 7/100\n",
      "150/150 [==============================] - 18s 120ms/step - loss: 0.3439\n",
      "Epoch 8/100\n",
      "150/150 [==============================] - 21s 140ms/step - loss: 0.3107\n",
      "Epoch 9/100\n",
      "150/150 [==============================] - 20s 133ms/step - loss: 0.2843\n",
      "Epoch 10/100\n",
      "150/150 [==============================] - 19s 130ms/step - loss: 0.2622\n",
      "Epoch 11/100\n",
      "150/150 [==============================] - 20s 136ms/step - loss: 0.2448\n",
      "Epoch 12/100\n",
      "150/150 [==============================] - 19s 126ms/step - loss: 0.2281\n",
      "Epoch 13/100\n",
      "150/150 [==============================] - 21s 138ms/step - loss: 0.2144\n",
      "Epoch 14/100\n",
      "150/150 [==============================] - 20s 132ms/step - loss: 0.2023\n",
      "Epoch 15/100\n",
      "150/150 [==============================] - 19s 127ms/step - loss: 0.1901\n",
      "Epoch 16/100\n",
      "150/150 [==============================] - 20s 136ms/step - loss: 0.1807\n",
      "Epoch 17/100\n",
      "150/150 [==============================] - 20s 130ms/step - loss: 0.1710\n",
      "Epoch 18/100\n",
      "150/150 [==============================] - 21s 138ms/step - loss: 0.1641\n",
      "Epoch 19/100\n",
      "150/150 [==============================] - 20s 136ms/step - loss: 0.1663\n",
      "Epoch 20/100\n",
      "150/150 [==============================] - 18s 122ms/step - loss: 0.1658\n",
      "Epoch 21/100\n",
      "150/150 [==============================] - 21s 138ms/step - loss: 0.1532\n",
      "Epoch 22/100\n",
      "150/150 [==============================] - 18s 121ms/step - loss: 0.1462\n",
      "Epoch 23/100\n",
      "150/150 [==============================] - 19s 130ms/step - loss: 0.1427\n",
      "Epoch 24/100\n",
      "150/150 [==============================] - 21s 139ms/step - loss: 0.1403\n",
      "Epoch 25/100\n",
      "150/150 [==============================] - 18s 123ms/step - loss: 0.1340\n",
      "Epoch 26/100\n",
      "150/150 [==============================] - 20s 131ms/step - loss: 0.1356\n",
      "Epoch 27/100\n",
      "150/150 [==============================] - 18s 119ms/step - loss: 0.1294\n",
      "Epoch 28/100\n",
      "150/150 [==============================] - 20s 133ms/step - loss: 0.1269\n",
      "Epoch 29/100\n",
      "150/150 [==============================] - 19s 129ms/step - loss: 0.1229\n",
      "Epoch 30/100\n",
      "150/150 [==============================] - 19s 125ms/step - loss: 0.1208\n",
      "Epoch 31/100\n",
      "150/150 [==============================] - 19s 125ms/step - loss: 0.1174\n",
      "Epoch 32/100\n",
      "150/150 [==============================] - 18s 121ms/step - loss: 0.1160\n",
      "Epoch 33/100\n",
      "150/150 [==============================] - 21s 138ms/step - loss: 0.1145\n",
      "Epoch 34/100\n",
      "150/150 [==============================] - 18s 122ms/step - loss: 0.1167\n",
      "Epoch 35/100\n",
      "150/150 [==============================] - 20s 130ms/step - loss: 0.1111\n",
      "Epoch 36/100\n",
      "150/150 [==============================] - 18s 118ms/step - loss: 0.1087\n",
      "Epoch 37/100\n",
      "150/150 [==============================] - 20s 135ms/step - loss: 0.1081\n",
      "Epoch 38/100\n",
      "150/150 [==============================] - 19s 124ms/step - loss: 0.1074\n",
      "Epoch 39/100\n",
      "150/150 [==============================] - 20s 132ms/step - loss: 0.1050\n",
      "Epoch 40/100\n",
      "150/150 [==============================] - 18s 121ms/step - loss: 0.1024\n",
      "Epoch 41/100\n",
      "150/150 [==============================] - 18s 123ms/step - loss: 0.1053\n",
      "Epoch 42/100\n",
      "150/150 [==============================] - 20s 135ms/step - loss: 0.1017\n",
      "Epoch 43/100\n",
      "150/150 [==============================] - 19s 124ms/step - loss: 0.1030\n",
      "Epoch 44/100\n",
      "150/150 [==============================] - 20s 131ms/step - loss: 0.1021\n",
      "Epoch 45/100\n",
      "150/150 [==============================] - 18s 118ms/step - loss: 0.1004\n",
      "Epoch 46/100\n",
      "150/150 [==============================] - 18s 118ms/step - loss: 0.0963\n",
      "Epoch 47/100\n",
      "150/150 [==============================] - 20s 131ms/step - loss: 0.0952\n",
      "Epoch 48/100\n",
      "150/150 [==============================] - 19s 128ms/step - loss: 0.0961\n",
      "Epoch 49/100\n",
      "150/150 [==============================] - 18s 121ms/step - loss: 0.0936\n",
      "Epoch 50/100\n",
      "150/150 [==============================] - 19s 127ms/step - loss: 0.0943\n",
      "Epoch 51/100\n",
      "150/150 [==============================] - 18s 119ms/step - loss: 0.0936\n",
      "Epoch 52/100\n",
      "150/150 [==============================] - 19s 129ms/step - loss: 0.0932\n",
      "Epoch 53/100\n",
      "150/150 [==============================] - 19s 126ms/step - loss: 0.0927\n",
      "Epoch 54/100\n",
      "150/150 [==============================] - 18s 123ms/step - loss: 0.0898\n",
      "Epoch 55/100\n",
      "150/150 [==============================] - 19s 124ms/step - loss: 0.0894\n",
      "Epoch 56/100\n",
      "150/150 [==============================] - 19s 128ms/step - loss: 0.0875\n",
      "Epoch 57/100\n",
      "150/150 [==============================] - 18s 119ms/step - loss: 0.0875\n",
      "Epoch 58/100\n",
      "150/150 [==============================] - 19s 125ms/step - loss: 0.0890\n",
      "Epoch 59/100\n",
      "150/150 [==============================] - 19s 125ms/step - loss: 0.0907\n",
      "Epoch 60/100\n",
      "150/150 [==============================] - 18s 121ms/step - loss: 0.0882\n",
      "Epoch 61/100\n",
      "150/150 [==============================] - 18s 120ms/step - loss: 0.0846\n",
      "Epoch 62/100\n",
      "150/150 [==============================] - 19s 127ms/step - loss: 0.0813\n",
      "Epoch 63/100\n",
      "150/150 [==============================] - 19s 125ms/step - loss: 0.0834\n",
      "Epoch 64/100\n",
      "150/150 [==============================] - 18s 119ms/step - loss: 0.0813\n",
      "Epoch 65/100\n",
      "150/150 [==============================] - 18s 119ms/step - loss: 0.0828\n",
      "Epoch 66/100\n",
      "150/150 [==============================] - 20s 136ms/step - loss: 0.0852\n",
      "Epoch 67/100\n",
      "150/150 [==============================] - 18s 123ms/step - loss: 0.0865\n",
      "Epoch 68/100\n",
      "150/150 [==============================] - 19s 128ms/step - loss: 0.0928\n",
      "Epoch 69/100\n",
      "150/150 [==============================] - 19s 124ms/step - loss: 0.0903\n",
      "Epoch 70/100\n",
      "150/150 [==============================] - 19s 127ms/step - loss: 0.0888\n",
      "Epoch 71/100\n",
      "150/150 [==============================] - 18s 118ms/step - loss: 0.0856\n",
      "Epoch 72/100\n",
      "150/150 [==============================] - 18s 120ms/step - loss: 0.0821\n",
      "Epoch 73/100\n",
      "150/150 [==============================] - 21s 141ms/step - loss: 0.0818\n",
      "Epoch 74/100\n",
      "150/150 [==============================] - 19s 128ms/step - loss: 0.0784\n",
      "Epoch 75/100\n",
      "150/150 [==============================] - 18s 118ms/step - loss: 0.0910\n",
      "Epoch 76/100\n",
      "150/150 [==============================] - 20s 130ms/step - loss: 0.1012\n",
      "Epoch 77/100\n",
      "150/150 [==============================] - 18s 119ms/step - loss: 0.0827\n",
      "Epoch 78/100\n",
      "150/150 [==============================] - 18s 118ms/step - loss: 0.0783\n",
      "Epoch 79/100\n",
      "150/150 [==============================] - 19s 124ms/step - loss: 0.0793\n",
      "Epoch 80/100\n",
      "150/150 [==============================] - 19s 125ms/step - loss: 0.0794\n",
      "Epoch 81/100\n",
      "150/150 [==============================] - 18s 121ms/step - loss: 0.0772\n",
      "Epoch 82/100\n",
      "150/150 [==============================] - 18s 118ms/step - loss: 0.0748\n",
      "Epoch 83/100\n",
      "150/150 [==============================] - 19s 128ms/step - loss: 0.0759\n",
      "Epoch 84/100\n",
      "150/150 [==============================] - 18s 118ms/step - loss: 0.0744\n",
      "Epoch 85/100\n",
      "150/150 [==============================] - 18s 118ms/step - loss: 0.0739\n",
      "Epoch 86/100\n",
      "150/150 [==============================] - 19s 126ms/step - loss: 0.0825\n",
      "Epoch 87/100\n",
      "150/150 [==============================] - 20s 132ms/step - loss: 0.0786\n",
      "Epoch 88/100\n",
      "150/150 [==============================] - 18s 118ms/step - loss: 0.0737\n",
      "Epoch 89/100\n",
      "150/150 [==============================] - 18s 118ms/step - loss: 0.0738\n",
      "Epoch 90/100\n",
      "150/150 [==============================] - 19s 126ms/step - loss: 0.0846\n",
      "Epoch 91/100\n",
      "150/150 [==============================] - 18s 122ms/step - loss: 0.0782\n",
      "Epoch 92/100\n",
      "150/150 [==============================] - 18s 118ms/step - loss: 0.0731\n",
      "Epoch 93/100\n",
      "150/150 [==============================] - 18s 118ms/step - loss: 0.0740\n",
      "Epoch 94/100\n",
      "150/150 [==============================] - 21s 139ms/step - loss: 0.0849\n",
      "Epoch 95/100\n",
      "150/150 [==============================] - 18s 120ms/step - loss: 0.0807\n",
      "Epoch 96/100\n",
      "150/150 [==============================] - 18s 119ms/step - loss: 0.0758\n",
      "Epoch 97/100\n",
      "150/150 [==============================] - 20s 130ms/step - loss: 0.0761\n",
      "Epoch 98/100\n",
      "150/150 [==============================] - 18s 120ms/step - loss: 0.0719\n",
      "Epoch 99/100\n",
      "150/150 [==============================] - 18s 119ms/step - loss: 0.0754\n",
      "Epoch 100/100\n",
      "150/150 [==============================] - 18s 123ms/step - loss: 0.0710\n",
      "19/19 [==============================] - 2s 107ms/step - loss: 1.1553\n"
     ]
    },
    {
     "data": {
      "text/plain": [
       "1.1553493738174438"
      ]
     },
     "execution_count": 27,
     "metadata": {},
     "output_type": "execute_result"
    }
   ],
   "source": [
    "model.fit([X1_train, X2_train], y_train_categorical, epochs=100, batch_size=16, verbose=1)\n",
    "model.save('model_full.h5')\n",
    "model.evaluate([X1_test, X2_test], y_test_categorical, verbose=1)"
   ]
  }
 ],
 "metadata": {
  "kernelspec": {
   "display_name": "Python 3 (ipykernel)",
   "language": "python",
   "name": "python3"
  },
  "language_info": {
   "codemirror_mode": {
    "name": "ipython",
    "version": 3
   },
   "file_extension": ".py",
   "mimetype": "text/x-python",
   "name": "python",
   "nbconvert_exporter": "python",
   "pygments_lexer": "ipython3",
   "version": "3.8.10"
  }
 },
 "nbformat": 4,
 "nbformat_minor": 4
}
