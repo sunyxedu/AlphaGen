{
 "cells": [
  {
   "cell_type": "code",
   "execution_count": 1,
   "metadata": {},
   "outputs": [
    {
     "data": {
      "text/plain": [
       "'/root'"
      ]
     },
     "execution_count": 1,
     "metadata": {},
     "output_type": "execute_result"
    }
   ],
   "source": [
    "import os\n",
    "os.getcwd()"
   ]
  },
  {
   "cell_type": "code",
   "execution_count": 2,
   "metadata": {
    "tags": []
   },
   "outputs": [],
   "source": [
    "# !unzip /root/autodl-tmp/Match_Data.zip -d /root/autodl-tmp/"
   ]
  },
  {
   "cell_type": "code",
   "execution_count": 3,
   "metadata": {
    "tags": []
   },
   "outputs": [],
   "source": [
    "import gc"
   ]
  },
  {
   "cell_type": "code",
   "execution_count": 4,
   "metadata": {},
   "outputs": [],
   "source": [
    "import pickle\n",
    "import os\n",
    "Name = ['MeltedToast', 'Mithraaaa']\n",
    "feat = []\n",
    "army = []\n",
    "Y = []\n",
    "id = []\n",
    "for name in Name:\n",
    "    file_path = '/root/autodl-tmp/Match_Data/'+name\n",
    "    replays = os.listdir(file_path)\n",
    "    for item in replays:\n",
    "        replay_path = file_path + '/' + item\n",
    "        with open(replay_path,\"rb\") as file:\n",
    "            total = pickle.load(file)\n",
    "            feat.append(total[\"features\"])\n",
    "            army.append(total[\"armies\"])\n",
    "            Y.append(total[\"kings\"])\n",
    "            id.append(total[\"id\"])\n",
    "\n",
    "# print(len(X))\n",
    "# print(data[0])"
   ]
  },
  {
   "cell_type": "code",
   "execution_count": 5,
   "metadata": {},
   "outputs": [
    {
     "name": "stdout",
     "output_type": "stream",
     "text": [
      "4375\n"
     ]
    }
   ],
   "source": [
    "print(len(Y))"
   ]
  },
  {
   "cell_type": "code",
   "execution_count": 6,
   "metadata": {
    "tags": []
   },
   "outputs": [
    {
     "name": "stdout",
     "output_type": "stream",
     "text": [
      "1414\n"
     ]
    },
    {
     "data": {
      "text/plain": [
       "0"
      ]
     },
     "execution_count": 6,
     "metadata": {},
     "output_type": "execute_result"
    }
   ],
   "source": [
    "mx = 0\n",
    "feat_new = []\n",
    "army_new = []\n",
    "Y_new = []\n",
    "for item in range(0,len(Y)):\n",
    "    mx = max(mx, len(Y[item]))\n",
    "    if (len(Y[item])<=1000):\n",
    "        feat_new.append(feat[item])\n",
    "        army_new.append(army[item])\n",
    "        Y_new.append(Y[item])\n",
    "        # print(id[item])\n",
    "print(mx)\n",
    "del feat, army, Y, id\n",
    "gc.collect()"
   ]
  },
  {
   "cell_type": "code",
   "execution_count": 7,
   "metadata": {},
   "outputs": [],
   "source": [
    "feat = feat_new\n",
    "army = army_new\n",
    "Y = Y_new"
   ]
  },
  {
   "cell_type": "code",
   "execution_count": 8,
   "metadata": {},
   "outputs": [
    {
     "data": {
      "text/plain": [
       "0"
      ]
     },
     "execution_count": 8,
     "metadata": {},
     "output_type": "execute_result"
    }
   ],
   "source": [
    "del feat_new, army_new, Y_new\n",
    "gc.collect()"
   ]
  },
  {
   "cell_type": "code",
   "execution_count": 9,
   "metadata": {},
   "outputs": [
    {
     "name": "stdout",
     "output_type": "stream",
     "text": [
      "4359\n"
     ]
    }
   ],
   "source": [
    "import numpy as np\n",
    "print(len(feat))\n",
    "def transform_to_numpy(X):\n",
    "    res = []\n",
    "    for item in X:\n",
    "        XX = []\n",
    "        flag=0\n",
    "        for item2 in item:\n",
    "            try:\n",
    "                # print(item2)\n",
    "                # print(\"TRY1: \",get_list_depth(item2),len(item2),)\n",
    "                XX.append(np.array(item2))\n",
    "            except ValueError as e:\n",
    "                print(item2)\n",
    "                # print(\"TRY2: \",get_list_depth(item2),len(item2))\n",
    "                flag=1\n",
    "                break\n",
    "        if flag:\n",
    "            break\n",
    "        res.append(np.array(XX))\n",
    "    return res\n",
    "\n",
    "feat_np = transform_to_numpy(feat)\n",
    "army_np = transform_to_numpy(army)\n",
    "Y_np = []\n",
    "for item in Y:\n",
    "    Y_np.append(np.array(item))\n",
    "# print(Y_np[0])"
   ]
  },
  {
   "cell_type": "code",
   "execution_count": 10,
   "metadata": {},
   "outputs": [
    {
     "data": {
      "text/plain": [
       "0"
      ]
     },
     "execution_count": 10,
     "metadata": {},
     "output_type": "execute_result"
    }
   ],
   "source": [
    "del feat\n",
    "del army\n",
    "del Y\n",
    "gc.collect()"
   ]
  },
  {
   "cell_type": "code",
   "execution_count": 26,
   "metadata": {},
   "outputs": [],
   "source": [
    "from tensorflow.keras.preprocessing.sequence import pad_sequences\n",
    "\n",
    "for i, (feat_seq, army_seq, y_seq) in enumerate(zip(feat_np, army_np, Y_np)):\n",
    "    target_shape = (1000, 25, 25)\n",
    "    padding_needed = target_shape[0] - feat_seq.shape[0]\n",
    "    feat_padded = np.pad(feat_seq, ((0, padding_needed), (0, 0), (0, 0)), mode='constant', constant_values=-1)\n",
    "    # print(feat_padded)\n",
    "    \n",
    "    army_padded = np.pad(army_seq, ((0, padding_needed), (0, 0), (0, 0)), mode='constant', constant_values=-1)\n",
    "    # print(army_padded)\n",
    "    # print(feat_padded.shape, army_padded.shape)\n",
    "    target_shape = (1000, 1, 2)\n",
    "    padding_needed = target_shape[0] - y_seq.shape[0]\n",
    "    Y_padded = np.pad(y_seq, ((0, padding_needed), (0, 0)), mode='constant', constant_values=-1)\n",
    "    # print(Y_padded.shape)\n",
    "    np.savez(f'/root/autodl-tmp/Numpy_Data/data_row_{i}.npz', feat_padded=feat_padded, army_padded=army_padded, Y_padded=Y_padded)"
   ]
  },
  {
   "cell_type": "code",
   "execution_count": 27,
   "metadata": {},
   "outputs": [
    {
     "data": {
      "text/plain": [
       "'/root/Numpy_Data.zip'"
      ]
     },
     "execution_count": 27,
     "metadata": {},
     "output_type": "execute_result"
    }
   ],
   "source": [
    "import shutil\n",
    "shutil.make_archive('Numpy_Data', 'zip', '/root/autodl-tmp/Numpy_Data')"
   ]
  },
  {
   "cell_type": "code",
   "execution_count": null,
   "metadata": {},
   "outputs": [],
   "source": [
    "# del feat_np,army_np,Y_np\n",
    "# gc.collect()"
   ]
  },
  {
   "cell_type": "code",
   "execution_count": null,
   "metadata": {},
   "outputs": [],
   "source": [
    "print(feat_padded.shape)\n",
    "print(army_padded.shape)\n",
    "print(Y_padded.shape)"
   ]
  }
 ],
 "metadata": {
  "kernelspec": {
   "display_name": "Python 3 (ipykernel)",
   "language": "python",
   "name": "python3"
  },
  "language_info": {
   "codemirror_mode": {
    "name": "ipython",
    "version": 3
   },
   "file_extension": ".py",
   "mimetype": "text/x-python",
   "name": "python",
   "nbconvert_exporter": "python",
   "pygments_lexer": "ipython3",
   "version": "3.8.10"
  }
 },
 "nbformat": 4,
 "nbformat_minor": 4
}
