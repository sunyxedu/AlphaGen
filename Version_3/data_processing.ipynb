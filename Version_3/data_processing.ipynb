{
 "cells": [
  {
   "cell_type": "code",
   "execution_count": 1,
   "metadata": {},
   "outputs": [
    {
     "data": {
      "text/plain": [
       "'/root'"
      ]
     },
     "execution_count": 1,
     "metadata": {},
     "output_type": "execute_result"
    }
   ],
   "source": [
    "import os\n",
    "os.getcwd()"
   ]
  },
  {
   "cell_type": "code",
   "execution_count": 2,
   "metadata": {
    "tags": []
   },
   "outputs": [],
   "source": [
    "# !unzip /root/autodl-tmp/Match_Data.zip -d /root/autodl-tmp/"
   ]
  },
  {
   "cell_type": "code",
   "execution_count": 3,
   "metadata": {
    "tags": []
   },
   "outputs": [],
   "source": [
    "import gc"
   ]
  },
  {
   "cell_type": "code",
   "execution_count": 4,
   "metadata": {},
   "outputs": [],
   "source": [
    "import pickle\n",
    "import os\n",
    "Name = ['MeltedToast', 'Mithraaaa']\n",
    "feat = []\n",
    "army = []\n",
    "Y = []\n",
    "id = []\n",
    "for name in Name:\n",
    "    file_path = '/root/autodl-tmp/Match_Data/'+name\n",
    "    replays = os.listdir(file_path)\n",
    "    for item in replays:\n",
    "        replay_path = file_path + '/' + item\n",
    "        with open(replay_path,\"rb\") as file:\n",
    "            total = pickle.load(file)\n",
    "            feat.append(total[\"features\"])\n",
    "            army.append(total[\"armies\"])\n",
    "            Y.append(total[\"kings\"])\n",
    "            id.append(total[\"id\"])\n",
    "\n",
    "# print(len(X))\n",
    "# print(data[0])"
   ]
  },
  {
   "cell_type": "code",
   "execution_count": 5,
   "metadata": {},
   "outputs": [
    {
     "name": "stdout",
     "output_type": "stream",
     "text": [
      "4375\n"
     ]
    }
   ],
   "source": [
    "print(len(Y))"
   ]
  },
  {
   "cell_type": "code",
   "execution_count": 6,
   "metadata": {
    "tags": []
   },
   "outputs": [
    {
     "name": "stdout",
     "output_type": "stream",
     "text": [
      "1414\n"
     ]
    },
    {
     "data": {
      "text/plain": [
       "0"
      ]
     },
     "execution_count": 6,
     "metadata": {},
     "output_type": "execute_result"
    }
   ],
   "source": [
    "mx = 0\n",
    "feat_new = []\n",
    "army_new = []\n",
    "Y_new = []\n",
    "for item in range(0,len(Y)):\n",
    "    mx = max(mx, len(Y[item]))\n",
    "    if (len(Y[item])<=1000):\n",
    "        feat_new.append(feat[item])\n",
    "        army_new.append(army[item])\n",
    "        Y_new.append(Y[item])\n",
    "        # print(id[item])\n",
    "print(mx)\n",
    "del feat, army, Y, id\n",
    "gc.collect()"
   ]
  },
  {
   "cell_type": "code",
   "execution_count": 7,
   "metadata": {},
   "outputs": [],
   "source": [
    "feat = feat_new\n",
    "army = army_new\n",
    "Y = Y_new"
   ]
  },
  {
   "cell_type": "code",
   "execution_count": 8,
   "metadata": {},
   "outputs": [
    {
     "data": {
      "text/plain": [
       "0"
      ]
     },
     "execution_count": 8,
     "metadata": {},
     "output_type": "execute_result"
    }
   ],
   "source": [
    "del feat_new, army_new, Y_new\n",
    "gc.collect()"
   ]
  },
  {
   "cell_type": "code",
   "execution_count": 9,
   "metadata": {},
   "outputs": [
    {
     "name": "stdout",
     "output_type": "stream",
     "text": [
      "4359\n"
     ]
    }
   ],
   "source": [
    "import numpy as np\n",
    "print(len(feat))\n",
    "def transform_to_numpy(X):\n",
    "    res = []\n",
    "    for item in X:\n",
    "        XX = []\n",
    "        flag=0\n",
    "        for item2 in item:\n",
    "            try:\n",
    "                # print(item2)\n",
    "                # print(\"TRY1: \",get_list_depth(item2),len(item2),)\n",
    "                XX.append(np.array(item2))\n",
    "            except ValueError as e:\n",
    "                print(item2)\n",
    "                # print(\"TRY2: \",get_list_depth(item2),len(item2))\n",
    "                flag=1\n",
    "                break\n",
    "        if flag:\n",
    "            break\n",
    "        res.append(np.array(XX))\n",
    "    return res\n",
    "\n",
    "feat_np = transform_to_numpy(feat)\n",
    "army_np = transform_to_numpy(army)\n",
    "Y_np = []\n",
    "for item in Y:\n",
    "    Y_np.append(np.array(item))\n",
    "# print(Y_np[0])"
   ]
  },
  {
   "cell_type": "code",
   "execution_count": 10,
   "metadata": {},
   "outputs": [
    {
     "data": {
      "text/plain": [
       "0"
      ]
     },
     "execution_count": 10,
     "metadata": {},
     "output_type": "execute_result"
    }
   ],
   "source": [
    "del feat\n",
    "del army\n",
    "del Y\n",
    "gc.collect()"
   ]
  },
  {
   "cell_type": "code",
   "execution_count": 16,
   "metadata": {
    "tags": []
   },
   "outputs": [
    {
     "name": "stdout",
     "output_type": "stream",
     "text": [
      "[[[  0   1   2 ...  22  23  24]\n",
      "  [ 25  26  27 ...  47  48  49]\n",
      "  [ 50  51  52 ...  72  73  74]\n",
      "  ...\n",
      "  [550 551 552 ... 572 573 574]\n",
      "  [575 576 577 ... 597 598 599]\n",
      "  [600 601 602 ... 622 623 624]]\n",
      "\n",
      " [[  0   1   2 ...  22  23  24]\n",
      "  [ 25  26  27 ...  47  48  49]\n",
      "  [ 50  51  52 ...  72  73  74]\n",
      "  ...\n",
      "  [550 551 552 ... 572 573 574]\n",
      "  [575 576 577 ... 597 598 599]\n",
      "  [600 601 602 ... 622 623 624]]\n",
      "\n",
      " [[  0   1   2 ...  22  23  24]\n",
      "  [ 25  26  27 ...  47  48  49]\n",
      "  [ 50  51  52 ...  72  73  74]\n",
      "  ...\n",
      "  [550 551 552 ... 572 573 574]\n",
      "  [575 576 577 ... 597 598 599]\n",
      "  [600 601 602 ... 622 623 624]]\n",
      "\n",
      " ...\n",
      "\n",
      " [[  0   1   2 ...  22  23  24]\n",
      "  [ 25  26  27 ...  47  48  49]\n",
      "  [ 50  51  52 ...  72  73  74]\n",
      "  ...\n",
      "  [550 551 552 ... 572 573 574]\n",
      "  [575 576 577 ... 597 598 599]\n",
      "  [600 601 602 ... 622 623 624]]\n",
      "\n",
      " [[  0   1   2 ...  22  23  24]\n",
      "  [ 25  26  27 ...  47  48  49]\n",
      "  [ 50  51  52 ...  72  73  74]\n",
      "  ...\n",
      "  [550 551 552 ... 572 573 574]\n",
      "  [575 576 577 ... 597 598 599]\n",
      "  [600 601 602 ... 622 623 624]]\n",
      "\n",
      " [[  0   1   2 ...  22  23  24]\n",
      "  [ 25  26  27 ...  47  48  49]\n",
      "  [ 50  51  52 ...  72  73  74]\n",
      "  ...\n",
      "  [550 551 552 ... 572 573 574]\n",
      "  [575 576 577 ... 597 598 599]\n",
      "  [600 601 602 ... 622 623 624]]]\n",
      "[412 412 412 412 412 412 412 412 412 412 412 412 412 412 412 412 412 412\n",
      " 412 412 412 412 412 412 412 412 412 412 412 412 412 412 412 412 412 412\n",
      " 412 412 412 412 412 412 412 412 412 412 412 412 412 412 412 412 412 412\n",
      " 412 412 412 412 412 412 412 412 412 412 412 412 412 412 412 412 412 412\n",
      " 412 412 412 412 412 412 412 412 412 412 412 412 412 412 412 412 412 412\n",
      " 412 412 412 412 412 412 412 412 412 412 412 412 412 412 412 412 412 412\n",
      " 412 412 412 412 412 412 412 412 412 412 412 412 412 412 412 412 412 412\n",
      " 412 412 412 412 412 412 412 412 412 412 412 412 412 412 412 412 412 412\n",
      " 412 412 412 412 412 412 412 412 412 412 412 412 412 412 412 412 412 412\n",
      " 412 412 412 412 412 412 412 412 412 412 412 412 412 412 412 412 412 412\n",
      " 412 412 412 412 412 412 412 412 412 412 412 412 412 412 412 412 412 412\n",
      " 412 412 412 412 412 412 412 412 412 412 412 412 412 412 412 412 412 412\n",
      " 412 412 412 412 412 412 412 412 412 412 412 412 412 412 412 412 412 412\n",
      " 412 412 412 412 412 412 412 412 -26 -26 -26 -26 -26 -26 -26 -26 -26 -26\n",
      " -26 -26 -26 -26 -26 -26 -26 -26 -26 -26 -26 -26 -26 -26 -26 -26 -26 -26\n",
      " -26 -26 -26 -26 -26 -26 -26 -26 -26 -26 -26 -26 -26 -26 -26 -26 -26 -26\n",
      " -26 -26 -26 -26 -26 -26 -26 -26 -26 -26 -26 -26 -26 -26 -26 -26 -26 -26\n",
      " -26 -26 -26 -26 -26 -26 -26 -26 -26 -26 -26 -26 -26 -26 -26 -26 -26 -26\n",
      " -26 -26 -26 -26 -26 -26 -26 -26 -26 -26 -26 -26 -26 -26 -26 -26 -26 -26\n",
      " -26 -26 -26 -26 -26 -26 -26 -26 -26 -26 -26 -26 -26 -26 -26 -26 -26 -26\n",
      " -26 -26 -26 -26 -26 -26 -26 -26 -26 -26 -26 -26 -26 -26 -26 -26 -26 -26\n",
      " -26 -26 -26 -26 -26 -26 -26 -26 -26 -26 -26 -26 -26 -26 -26 -26 -26 -26\n",
      " -26 -26 -26 -26 -26 -26 -26 -26 -26 -26 -26 -26 -26 -26 -26 -26 -26 -26\n",
      " -26 -26 -26 -26 -26 -26 -26 -26 -26 -26 -26 -26 -26 -26 -26 -26 -26 -26\n",
      " -26 -26 -26 -26 -26 -26 -26 -26 -26 -26 -26 -26 -26 -26 -26 -26 -26 -26\n",
      " -26 -26 -26 -26 -26 -26 -26 -26 -26 -26 -26 -26 -26 -26 -26 -26 -26 -26\n",
      " -26 -26 -26 -26 -26 -26 -26 -26 -26 -26 -26 -26 -26 -26 -26 -26 -26 -26\n",
      " -26 -26 -26 -26 -26 -26 -26 -26 -26 -26 -26 -26 -26 -26 -26 -26 -26 -26\n",
      " -26 -26 -26 -26 -26 -26 -26 -26 -26 -26 -26 -26 -26 -26 -26 -26 -26 -26\n",
      " -26 -26 -26 -26 -26 -26 -26 -26 -26 -26 -26 -26 -26 -26 -26 -26 -26 -26\n",
      " -26 -26 -26 -26 -26 -26 -26 -26 -26 -26 -26 -26 -26 -26 -26 -26 -26 -26\n",
      " -26 -26 -26 -26 -26 -26 -26 -26 -26 -26 -26 -26 -26 -26 -26 -26 -26 -26\n",
      " -26 -26 -26 -26 -26 -26 -26 -26 -26 -26 -26 -26 -26 -26 -26 -26 -26 -26\n",
      " -26 -26 -26 -26 -26 -26 -26 -26 -26 -26 -26 -26 -26 -26 -26 -26 -26 -26\n",
      " -26 -26 -26 -26 -26 -26 -26 -26 -26 -26 -26 -26 -26 -26 -26 -26 -26 -26\n",
      " -26 -26 -26 -26 -26 -26 -26 -26 -26 -26 -26 -26 -26 -26 -26 -26 -26 -26\n",
      " -26 -26 -26 -26 -26 -26 -26 -26 -26 -26 -26 -26 -26 -26 -26 -26 -26 -26\n",
      " -26 -26 -26 -26 -26 -26 -26 -26 -26 -26 -26 -26 -26 -26 -26 -26 -26 -26\n",
      " -26 -26 -26 -26 -26 -26 -26 -26 -26 -26 -26 -26 -26 -26 -26 -26 -26 -26\n",
      " -26 -26 -26 -26 -26 -26 -26 -26 -26 -26 -26 -26 -26 -26 -26 -26 -26 -26\n",
      " -26 -26 -26 -26 -26 -26 -26 -26 -26 -26 -26 -26 -26 -26 -26 -26 -26 -26\n",
      " -26 -26 -26 -26 -26 -26 -26 -26 -26 -26 -26 -26 -26 -26 -26 -26 -26 -26\n",
      " -26 -26 -26 -26 -26 -26 -26 -26 -26 -26 -26 -26 -26 -26 -26 -26 -26 -26\n",
      " -26 -26 -26 -26 -26 -26 -26 -26 -26 -26 -26 -26 -26 -26 -26 -26 -26 -26\n",
      " -26 -26 -26 -26 -26 -26 -26 -26 -26 -26 -26 -26 -26 -26 -26 -26 -26 -26\n",
      " -26 -26 -26 -26 -26 -26 -26 -26 -26 -26 -26 -26 -26 -26 -26 -26 -26 -26\n",
      " -26 -26 -26 -26 -26 -26 -26 -26 -26 -26 -26 -26 -26 -26 -26 -26 -26 -26\n",
      " -26 -26 -26 -26 -26 -26 -26 -26 -26 -26 -26 -26 -26 -26 -26 -26 -26 -26\n",
      " -26 -26 -26 -26 -26 -26 -26 -26 -26 -26 -26 -26 -26 -26 -26 -26 -26 -26\n",
      " -26 -26 -26 -26 -26 -26 -26 -26 -26 -26 -26 -26 -26 -26 -26 -26 -26 -26\n",
      " -26 -26 -26 -26 -26 -26 -26 -26 -26 -26 -26 -26 -26 -26 -26 -26 -26 -26\n",
      " -26 -26 -26 -26 -26 -26 -26 -26 -26 -26 -26 -26 -26 -26 -26 -26 -26 -26\n",
      " -26 -26 -26 -26 -26 -26 -26 -26 -26 -26 -26 -26 -26 -26 -26 -26 -26 -26\n",
      " -26 -26 -26 -26 -26 -26 -26 -26 -26 -26 -26 -26 -26 -26 -26 -26 -26 -26\n",
      " -26 -26 -26 -26 -26 -26 -26 -26 -26 -26 -26 -26 -26 -26 -26 -26 -26 -26\n",
      " -26 -26 -26 -26 -26 -26 -26 -26 -26 -26]\n"
     ]
    },
    {
     "ename": "OSError",
     "evalue": "[Errno 28] No space left on device",
     "output_type": "error",
     "traceback": [
      "\u001b[0;31m---------------------------------------------------------------------------\u001b[0m",
      "\u001b[0;31mOSError\u001b[0m                                   Traceback (most recent call last)",
      "Input \u001b[0;32mIn [16]\u001b[0m, in \u001b[0;36m<cell line: 3>\u001b[0;34m()\u001b[0m\n\u001b[1;32m     21\u001b[0m     \u001b[38;5;28mprint\u001b[39m(result)\n\u001b[1;32m     22\u001b[0m \u001b[38;5;66;03m# print(Y_padded.shape)\u001b[39;00m\n\u001b[0;32m---> 23\u001b[0m \u001b[43mnp\u001b[49m\u001b[38;5;241;43m.\u001b[39;49m\u001b[43msavez\u001b[49m\u001b[43m(\u001b[49m\u001b[38;5;124;43mf\u001b[39;49m\u001b[38;5;124;43m'\u001b[39;49m\u001b[38;5;124;43m/root/autodl-tmp/Numpy_Data/data_row_\u001b[39;49m\u001b[38;5;132;43;01m{\u001b[39;49;00m\u001b[43mi\u001b[49m\u001b[38;5;132;43;01m}\u001b[39;49;00m\u001b[38;5;124;43m.npz\u001b[39;49m\u001b[38;5;124;43m'\u001b[39;49m\u001b[43m,\u001b[49m\u001b[43m \u001b[49m\u001b[38;5;28;43mid\u001b[39;49m\u001b[38;5;241;43m=\u001b[39;49m\u001b[38;5;28;43mid\u001b[39;49m\u001b[43m,\u001b[49m\u001b[43m \u001b[49m\u001b[43mfeat_padded\u001b[49m\u001b[38;5;241;43m=\u001b[39;49m\u001b[43mfeat_padded\u001b[49m\u001b[43m,\u001b[49m\u001b[43m \u001b[49m\u001b[43marmy_padded\u001b[49m\u001b[38;5;241;43m=\u001b[39;49m\u001b[43marmy_padded\u001b[49m\u001b[43m,\u001b[49m\u001b[43m \u001b[49m\u001b[43mY_padded\u001b[49m\u001b[38;5;241;43m=\u001b[39;49m\u001b[43mresult\u001b[49m\u001b[43m)\u001b[49m\n",
      "File \u001b[0;32m<__array_function__ internals>:180\u001b[0m, in \u001b[0;36msavez\u001b[0;34m(*args, **kwargs)\u001b[0m\n",
      "File \u001b[0;32m~/miniconda3/lib/python3.8/site-packages/numpy/lib/npyio.py:595\u001b[0m, in \u001b[0;36msavez\u001b[0;34m(file, *args, **kwds)\u001b[0m\n\u001b[1;32m    511\u001b[0m \u001b[38;5;129m@array_function_dispatch\u001b[39m(_savez_dispatcher)\n\u001b[1;32m    512\u001b[0m \u001b[38;5;28;01mdef\u001b[39;00m \u001b[38;5;21msavez\u001b[39m(file, \u001b[38;5;241m*\u001b[39margs, \u001b[38;5;241m*\u001b[39m\u001b[38;5;241m*\u001b[39mkwds):\n\u001b[1;32m    513\u001b[0m     \u001b[38;5;124;03m\"\"\"Save several arrays into a single file in uncompressed ``.npz`` format.\u001b[39;00m\n\u001b[1;32m    514\u001b[0m \n\u001b[1;32m    515\u001b[0m \u001b[38;5;124;03m    Provide arrays as keyword arguments to store them under the\u001b[39;00m\n\u001b[0;32m   (...)\u001b[0m\n\u001b[1;32m    593\u001b[0m \n\u001b[1;32m    594\u001b[0m \u001b[38;5;124;03m    \"\"\"\u001b[39;00m\n\u001b[0;32m--> 595\u001b[0m     \u001b[43m_savez\u001b[49m\u001b[43m(\u001b[49m\u001b[43mfile\u001b[49m\u001b[43m,\u001b[49m\u001b[43m \u001b[49m\u001b[43margs\u001b[49m\u001b[43m,\u001b[49m\u001b[43m \u001b[49m\u001b[43mkwds\u001b[49m\u001b[43m,\u001b[49m\u001b[43m \u001b[49m\u001b[38;5;28;43;01mFalse\u001b[39;49;00m\u001b[43m)\u001b[49m\n",
      "File \u001b[0;32m~/miniconda3/lib/python3.8/site-packages/numpy/lib/npyio.py:699\u001b[0m, in \u001b[0;36m_savez\u001b[0;34m(file, args, kwds, compress, allow_pickle, pickle_kwargs)\u001b[0m\n\u001b[1;32m    697\u001b[0m     \u001b[38;5;66;03m# always force zip64, gh-10776\u001b[39;00m\n\u001b[1;32m    698\u001b[0m     \u001b[38;5;28;01mwith\u001b[39;00m zipf\u001b[38;5;241m.\u001b[39mopen(fname, \u001b[38;5;124m'\u001b[39m\u001b[38;5;124mw\u001b[39m\u001b[38;5;124m'\u001b[39m, force_zip64\u001b[38;5;241m=\u001b[39m\u001b[38;5;28;01mTrue\u001b[39;00m) \u001b[38;5;28;01mas\u001b[39;00m fid:\n\u001b[0;32m--> 699\u001b[0m         \u001b[38;5;28;43mformat\u001b[39;49m\u001b[38;5;241;43m.\u001b[39;49m\u001b[43mwrite_array\u001b[49m\u001b[43m(\u001b[49m\u001b[43mfid\u001b[49m\u001b[43m,\u001b[49m\u001b[43m \u001b[49m\u001b[43mval\u001b[49m\u001b[43m,\u001b[49m\n\u001b[1;32m    700\u001b[0m \u001b[43m                           \u001b[49m\u001b[43mallow_pickle\u001b[49m\u001b[38;5;241;43m=\u001b[39;49m\u001b[43mallow_pickle\u001b[49m\u001b[43m,\u001b[49m\n\u001b[1;32m    701\u001b[0m \u001b[43m                           \u001b[49m\u001b[43mpickle_kwargs\u001b[49m\u001b[38;5;241;43m=\u001b[39;49m\u001b[43mpickle_kwargs\u001b[49m\u001b[43m)\u001b[49m\n\u001b[1;32m    703\u001b[0m zipf\u001b[38;5;241m.\u001b[39mclose()\n",
      "File \u001b[0;32m~/miniconda3/lib/python3.8/site-packages/numpy/lib/format.py:694\u001b[0m, in \u001b[0;36mwrite_array\u001b[0;34m(fp, array, version, allow_pickle, pickle_kwargs)\u001b[0m\n\u001b[1;32m    690\u001b[0m \u001b[38;5;28;01melse\u001b[39;00m:\n\u001b[1;32m    691\u001b[0m     \u001b[38;5;28;01mfor\u001b[39;00m chunk \u001b[38;5;129;01min\u001b[39;00m numpy\u001b[38;5;241m.\u001b[39mnditer(\n\u001b[1;32m    692\u001b[0m             array, flags\u001b[38;5;241m=\u001b[39m[\u001b[38;5;124m'\u001b[39m\u001b[38;5;124mexternal_loop\u001b[39m\u001b[38;5;124m'\u001b[39m, \u001b[38;5;124m'\u001b[39m\u001b[38;5;124mbuffered\u001b[39m\u001b[38;5;124m'\u001b[39m, \u001b[38;5;124m'\u001b[39m\u001b[38;5;124mzerosize_ok\u001b[39m\u001b[38;5;124m'\u001b[39m],\n\u001b[1;32m    693\u001b[0m             buffersize\u001b[38;5;241m=\u001b[39mbuffersize, order\u001b[38;5;241m=\u001b[39m\u001b[38;5;124m'\u001b[39m\u001b[38;5;124mC\u001b[39m\u001b[38;5;124m'\u001b[39m):\n\u001b[0;32m--> 694\u001b[0m         \u001b[43mfp\u001b[49m\u001b[38;5;241;43m.\u001b[39;49m\u001b[43mwrite\u001b[49m\u001b[43m(\u001b[49m\u001b[43mchunk\u001b[49m\u001b[38;5;241;43m.\u001b[39;49m\u001b[43mtobytes\u001b[49m\u001b[43m(\u001b[49m\u001b[38;5;124;43m'\u001b[39;49m\u001b[38;5;124;43mC\u001b[39;49m\u001b[38;5;124;43m'\u001b[39;49m\u001b[43m)\u001b[49m\u001b[43m)\u001b[49m\n",
      "File \u001b[0;32m~/miniconda3/lib/python3.8/zipfile.py:1141\u001b[0m, in \u001b[0;36m_ZipWriteFile.write\u001b[0;34m(self, data)\u001b[0m\n\u001b[1;32m   1139\u001b[0m     data \u001b[38;5;241m=\u001b[39m \u001b[38;5;28mself\u001b[39m\u001b[38;5;241m.\u001b[39m_compressor\u001b[38;5;241m.\u001b[39mcompress(data)\n\u001b[1;32m   1140\u001b[0m     \u001b[38;5;28mself\u001b[39m\u001b[38;5;241m.\u001b[39m_compress_size \u001b[38;5;241m+\u001b[39m\u001b[38;5;241m=\u001b[39m \u001b[38;5;28mlen\u001b[39m(data)\n\u001b[0;32m-> 1141\u001b[0m \u001b[38;5;28;43mself\u001b[39;49m\u001b[38;5;241;43m.\u001b[39;49m\u001b[43m_fileobj\u001b[49m\u001b[38;5;241;43m.\u001b[39;49m\u001b[43mwrite\u001b[49m\u001b[43m(\u001b[49m\u001b[43mdata\u001b[49m\u001b[43m)\u001b[49m\n\u001b[1;32m   1142\u001b[0m \u001b[38;5;28;01mreturn\u001b[39;00m nbytes\n",
      "\u001b[0;31mOSError\u001b[0m: [Errno 28] No space left on device"
     ]
    }
   ],
   "source": [
    "from tensorflow.keras.preprocessing.sequence import pad_sequences\n",
    "\n",
    "for i, (feat_seq, army_seq, y_seq) in enumerate(zip(feat_np, army_np, Y_np)):\n",
    "    target_shape = (1000, 25, 25)\n",
    "    padding_needed = target_shape[0] - feat_seq.shape[0]\n",
    "    feat_padded = np.pad(feat_seq, ((0, padding_needed), (0, 0), (0, 0)), mode='constant', constant_values=-1)\n",
    "    # print(feat_padded)\n",
    "    \n",
    "    army_padded = np.pad(army_seq, ((0, padding_needed), (0, 0), (0, 0)), mode='constant', constant_values=-1)\n",
    "    # print(army_padded)\n",
    "    # print(feat_padded.shape, army_padded.shape)\n",
    "    target_shape = (1000, 2)\n",
    "    padding_needed = target_shape[0] - y_seq.shape[0]\n",
    "    Y_padded = np.pad(y_seq, ((0, padding_needed), (0, 0)), mode='constant', constant_values=-1)\n",
    "    result = Y_padded[:, 0] * 25 + Y_padded[:, 1]\n",
    "    \n",
    "    grid_values = np.arange(625).reshape(25, 25)\n",
    "    id = np.tile(grid_values, (1000, 1, 1))\n",
    "    if i==0:\n",
    "        print(id)\n",
    "        print(result)\n",
    "    # print(Y_padded.shape)\n",
    "    np.savez(f'/root/autodl-tmp/Numpy_Data/data_row_{i}.npz', id=id, feat_padded=feat_padded, army_padded=army_padded, Y_padded=result)"
   ]
  },
  {
   "cell_type": "code",
   "execution_count": null,
   "metadata": {},
   "outputs": [],
   "source": [
    "import shutil\n",
    "shutil.make_archive('Numpy_Data', 'zip', '/root/autodl-tmp/Numpy_Data')"
   ]
  },
  {
   "cell_type": "code",
   "execution_count": null,
   "metadata": {},
   "outputs": [],
   "source": [
    "# del feat_np,army_np,Y_np\n",
    "# gc.collect()"
   ]
  },
  {
   "cell_type": "code",
   "execution_count": null,
   "metadata": {},
   "outputs": [],
   "source": [
    "print(feat_padded.shape)\n",
    "print(army_padded.shape)\n",
    "print(Y_padded.shape)"
   ]
  }
 ],
 "metadata": {
  "kernelspec": {
   "display_name": "Python 3 (ipykernel)",
   "language": "python",
   "name": "python3"
  },
  "language_info": {
   "codemirror_mode": {
    "name": "ipython",
    "version": 3
   },
   "file_extension": ".py",
   "mimetype": "text/x-python",
   "name": "python",
   "nbconvert_exporter": "python",
   "pygments_lexer": "ipython3",
   "version": "3.8.10"
  }
 },
 "nbformat": 4,
 "nbformat_minor": 4
}
