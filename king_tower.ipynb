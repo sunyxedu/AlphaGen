{
 "cells": [
  {
   "cell_type": "code",
   "execution_count": null,
   "metadata": {},
   "outputs": [],
   "source": [
    "import os\n",
    "os.getcwd()"
   ]
  },
  {
   "cell_type": "code",
   "execution_count": null,
   "metadata": {},
   "outputs": [],
   "source": [
    "import gc"
   ]
  },
  {
   "cell_type": "code",
   "execution_count": null,
   "metadata": {},
   "outputs": [],
   "source": [
    "import pickle\n",
    "import os\n",
    "Name = ['MeltedToast', 'Mithraaaa']\n",
    "feat = []\n",
    "army = []\n",
    "Y = []\n",
    "id = []\n",
    "for name in Name:\n",
    "    file_path = '/content/Match_Data/'+name\n",
    "    replays = os.listdir(file_path)\n",
    "    for item in replays:\n",
    "        replay_path = file_path + '/' + item\n",
    "        with open(replay_path,\"rb\") as file:\n",
    "            total = pickle.load(file)\n",
    "            feat.append(total[\"features\"])\n",
    "            army.append(total[\"armies\"])\n",
    "            Y.append(total[\"kings\"])\n",
    "            id.append(total[\"id\"])\n",
    "\n",
    "# print(len(X))\n",
    "# print(data[0])"
   ]
  },
  {
   "cell_type": "code",
   "execution_count": null,
   "metadata": {},
   "outputs": [],
   "source": [
    "mx = 0\n",
    "feat_new = []\n",
    "army_new = []\n",
    "Y_new = []\n",
    "for item in range(0,10374):\n",
    "    mx = max(mx, len(Y[item]))\n",
    "    if (len(Y[item])<=1000):\n",
    "        feat_new.append(feat[item])\n",
    "        army_new.append(army[item])\n",
    "        Y_new.append(Y[item])\n",
    "        # print(id[item])\n",
    "print(mx)\n",
    "del feat, army, Y, id\n",
    "gc.collect()\n",
    "import random\n",
    "random_integers = random.sample(range(0, 10001), 3000)\n",
    "print(random_integers)\n",
    "feat = [feat_new[item]for item in random_integers]\n",
    "army = [army_new[item]for item in random_integers]\n",
    "Y = [Y_new[item]for item in random_integers]"
   ]
  },
  {
   "cell_type": "code",
   "execution_count": null,
   "metadata": {},
   "outputs": [],
   "source": [
    "del feat_new, army_new, Y_new\n",
    "gc.collect()"
   ]
  },
  {
   "cell_type": "code",
   "execution_count": null,
   "metadata": {},
   "outputs": [],
   "source": [
    "print(Y[0])"
   ]
  },
  {
   "cell_type": "code",
   "execution_count": null,
   "metadata": {},
   "outputs": [],
   "source": [
    "import numpy as np\n",
    "print(len(feat))\n",
    "def transform_to_numpy(X):\n",
    "    res = []\n",
    "    for item in X:\n",
    "        XX = []\n",
    "        flag=0\n",
    "        for item2 in item:\n",
    "            try:\n",
    "                # print(item2)\n",
    "                # print(\"TRY1: \",get_list_depth(item2),len(item2),)\n",
    "                XX.append(np.array(item2))\n",
    "            except ValueError as e:\n",
    "                print(item2)\n",
    "                # print(\"TRY2: \",get_list_depth(item2),len(item2))\n",
    "                flag=1\n",
    "                break\n",
    "        if flag:\n",
    "            break\n",
    "        res.append(np.array(XX))\n",
    "    return res\n",
    "\n",
    "feat_np = transform_to_numpy(feat)\n",
    "army_np = transform_to_numpy(army)\n",
    "Y_np = []\n",
    "for item in Y:\n",
    "    Y_np.append(np.array(item))\n",
    "# print(Y_np[0])"
   ]
  },
  {
   "cell_type": "code",
   "execution_count": null,
   "metadata": {},
   "outputs": [],
   "source": [
    "del feat, army, Y\n",
    "gc.collect()"
   ]
  },
  {
   "cell_type": "code",
   "execution_count": null,
   "metadata": {},
   "outputs": [],
   "source": [
    "from tensorflow.keras.preprocessing.sequence import pad_sequences\n",
    "feat_flatten = [[step.flatten() for step in sequence] for sequence in feat_np]\n",
    "feat_padded_flat = pad_sequences(feat_flatten, padding='post', value=-1.0)\n",
    "feat_padded = np.array([np.array([step.reshape(25, 25) for step in sequence]) for sequence in feat_padded_flat])\n",
    "\n",
    "army_flatten = [[step.flatten() for step in sequence] for sequence in army_np]\n",
    "army_padded_flat = pad_sequences(army_flatten, padding='post', value=-1.0)\n",
    "army_padded = np.array([np.array([step.reshape(25, 25) for step in sequence]) for sequence in army_padded_flat])\n",
    "\n",
    "Y_flatten = [[step.flatten() for step in sequence] for sequence in Y_np]\n",
    "Y_padded_flat = pad_sequences(Y_flatten, padding='post', value=-1.0)\n",
    "Y_padded = np.array([np.array([step.reshape(1, 2) for step in sequence]) for sequence in Y_padded_flat])"
   ]
  },
  {
   "cell_type": "code",
   "execution_count": null,
   "metadata": {},
   "outputs": [],
   "source": [
    "del feat_np,army_np,Y_np\n",
    "gc.collect()"
   ]
  },
  {
   "cell_type": "code",
   "execution_count": null,
   "metadata": {},
   "outputs": [],
   "source": [
    "print(feat_padded.shape)\n",
    "print(army_padded.shape)\n",
    "print(Y_padded.shape)"
   ]
  },
  {
   "cell_type": "code",
   "execution_count": null,
   "metadata": {},
   "outputs": [],
   "source": [
    "import tensorflow as tf\n",
    "from tensorflow.keras.models import Model\n",
    "from tensorflow.keras.layers import Input, Conv2D, Flatten, LSTM, Dense, TimeDistributed, Concatenate\n",
    "from keras import backend as K\n",
    "\n",
    "# model = Sequential()\n",
    "\n",
    "input_1 = Input(shape=(None, 25, 25, 1))\n",
    "input_2 = Input(shape=(None, 25, 25, 1))\n",
    "\n",
    "conv1_1 = TimeDistributed(Conv2D(filters=32, kernel_size=(3, 3), activation='relu'))(input_1)\n",
    "conv1_1 = TimeDistributed(Flatten())(conv1_1)\n",
    "\n",
    "conv1_2 = TimeDistributed(Conv2D(filters=32, kernel_size=(3, 3), activation='relu'))(input_2)\n",
    "conv1_2 = TimeDistributed(Flatten())(conv1_2)\n",
    "\n",
    "merged = Concatenate(axis=-1)([conv1_1, conv1_2])\n",
    "lstm_out = LSTM(units=64, return_sequences=True, recurrent_activation='sigmoid')(merged)\n",
    "\n",
    "output = Dense(units=2, activation='linear')(lstm_out)\n",
    "\n",
    "model = Model(inputs=[input_1, input_2], outputs=output)\n",
    "\n",
    "def loss_func(y_true, y_pred):\n",
    "    ignore_steps = 20\n",
    "    y_true = tf.squeeze(y_true, axis=2)\n",
    "    time_steps = tf.shape(y_true)[1]\n",
    "    mask = tf.reduce_all(tf.equal(y_true, -1), axis=-1) \n",
    "    mask = tf.cast(mask, dtype=tf.float32)\n",
    "    loss = tf.abs(y_pred[:, ignore_steps:, :] - y_true[:, ignore_steps:, :])\n",
    "    loss = loss * (1 - mask[:, ignore_steps:])[:, :, None] \n",
    "    return tf.reduce_mean(loss)\n",
    "\n",
    "model.compile(optimizer='adam', loss=loss_func)\n",
    "\n",
    "model.summary()"
   ]
  },
  {
   "cell_type": "code",
   "execution_count": null,
   "metadata": {},
   "outputs": [],
   "source": [
    "from sklearn.model_selection import train_test_split\n",
    "\n",
    "X1_train, X1_test, X2_train, X2_test, y_train, y_test = train_test_split(\n",
    "    feat_padded, army_padded, Y_padded, test_size=0.2, random_state=42\n",
    ")"
   ]
  },
  {
   "cell_type": "code",
   "execution_count": null,
   "metadata": {},
   "outputs": [],
   "source": [
    "del feat_padded, army_padded, Y_padded\n",
    "gc.collect()"
   ]
  },
  {
   "cell_type": "code",
   "execution_count": null,
   "metadata": {},
   "outputs": [],
   "source": [
    "model.fit([X1_train, X2_train], y_train, epochs=10, batch_size=32, verbose=1)\n",
    "model.save('model_full.h5')\n",
    "model.evaluate([X1_test, X2_test], y_test, verbose=1)"
   ]
  }
 ],
 "metadata": {
  "kernelspec": {
   "display_name": "Python 3",
   "language": "python",
   "name": "python3"
  },
  "language_info": {
   "codemirror_mode": {
    "name": "ipython",
    "version": 3
   },
   "file_extension": ".py",
   "mimetype": "text/x-python",
   "name": "python",
   "nbconvert_exporter": "python",
   "pygments_lexer": "ipython3",
   "version": "3.11.5"
  }
 },
 "nbformat": 4,
 "nbformat_minor": 2
}
