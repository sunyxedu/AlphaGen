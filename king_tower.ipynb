{
 "cells": [
  {
   "cell_type": "code",
   "execution_count": 1,
   "metadata": {},
   "outputs": [
    {
     "data": {
      "text/plain": [
       "'/root'"
      ]
     },
     "execution_count": 1,
     "metadata": {},
     "output_type": "execute_result"
    }
   ],
   "source": [
    "import os\n",
    "os.getcwd()"
   ]
  },
  {
   "cell_type": "code",
   "execution_count": 2,
   "metadata": {
    "tags": []
   },
   "outputs": [],
   "source": [
    "# !unzip Match_Data.zip"
   ]
  },
  {
   "cell_type": "code",
   "execution_count": 3,
   "metadata": {
    "tags": []
   },
   "outputs": [],
   "source": [
    "import gc"
   ]
  },
  {
   "cell_type": "code",
   "execution_count": 4,
   "metadata": {},
   "outputs": [],
   "source": [
    "import pickle\n",
    "import os\n",
    "\n",
    "Name = ['MeltedToast', 'Mithraaaa']\n",
    "feat = []\n",
    "army = []\n",
    "Y = []\n",
    "id = []\n",
    "for name in Name:\n",
    "    file_path = '/root/Match_Data/'+name\n",
    "    replays = os.listdir(file_path)\n",
    "    for item in replays:\n",
    "        replay_path = file_path + '/' + item\n",
    "        with open(replay_path,\"rb\") as file:\n",
    "            total = pickle.load(file)\n",
    "            feat.append(total[\"features\"])\n",
    "            army.append(total[\"armies\"])\n",
    "            Y.append(total[\"kings\"])\n",
    "            id.append(total[\"id\"])\n",
    "\n",
    "# print(len(X))\n",
    "# print(data[0])"
   ]
  },
  {
   "cell_type": "code",
   "execution_count": null,
   "metadata": {},
   "outputs": [],
   "source": [
    "import torch\n",
    "from torch.utils.data import Dataset, DataLoader\n",
    "import numpy as np\n",
    "import pickle\n",
    "import os\n",
    "\n",
    "class KingTowerDataset(Dataset):\n",
    "    def __init__(self, data_dir):\n",
    "        self.data_dir = data_dir\n",
    "        self.file_list = [f for f in os.listdir(data_dir) if f.endswith('.pkl')]\n",
    "\n",
    "    def __len__(self):\n",
    "        return len(self.file_list)\n",
    "\n",
    "    def __getitem__(self, idx):\n",
    "        file_path = os.path.join(self.data_dir, self.file_list[idx])\n",
    "        with open(file_path, 'rb') as f:\n",
    "            data = pickle.load(f)\n",
    "        \n",
    "        feat = self.convert_to_numpy(data['features'])\n",
    "        feat = torch.from_numpy(feat).float()\n",
    "        \n",
    "        army = self.convert_to_numpy(data['armies'])\n",
    "        army = torch.from_numpy(army).float()\n",
    "        \n",
    "        Y = self.convert_to_numpy(data['kings'])\n",
    "        Y = torch.from_numpy(Y).float()\n",
    "        \n",
    "        return feat, army, Y\n",
    "\n",
    "    def convert_to_numpy(self, data):\n",
    "        if isinstance(data, np.ndarray):\n",
    "            return data\n",
    "        elif isinstance(data, list):\n",
    "            return np.array(data)\n",
    "        else:\n",
    "            raise ValueError(f\"Unsupported data type: {type(data)}\")\n",
    "\n",
    "# 使用示例\n",
    "data_dir = '/path/to/your/pickle/files'\n",
    "dataset = KingTowerDataset(data_dir)\n",
    "dataloader = DataLoader(dataset, batch_size=32, shuffle=True)\n",
    "\n",
    "# 遍历数据\n",
    "for batch_feat, batch_army, batch_Y in dataloader:\n",
    "    print(batch_feat.shape, batch_army.shape, batch_Y.shape)\n",
    "    # 在这里使用你的数据"
   ]
  },
  {
   "cell_type": "code",
   "execution_count": 5,
   "metadata": {
    "tags": []
   },
   "outputs": [
    {
     "name": "stdout",
     "output_type": "stream",
     "text": [
      "2099\n"
     ]
    }
   ],
   "source": [
    "mx = 0\n",
    "feat_new = []\n",
    "army_new = []\n",
    "Y_new = []\n",
    "for item in range(0,10374):\n",
    "    mx = max(mx, len(Y[item]))\n",
    "    if (len(Y[item])<=1000):\n",
    "        feat_new.append(feat[item])\n",
    "        army_new.append(army[item])\n",
    "        Y_new.append(Y[item])\n",
    "        # print(id[item])\n",
    "print(mx)\n",
    "del feat, army, Y, id\n",
    "gc.collect()\n",
    "import random\n",
    "random_integers = random.sample(range(0, 10001), 3000)\n",
    "# print(random_integers)\n",
    "feat = [feat_new[item]for item in random_integers]\n",
    "army = [army_new[item]for item in random_integers]\n",
    "Y = [Y_new[item]for item in random_integers]"
   ]
  },
  {
   "cell_type": "code",
   "execution_count": 6,
   "metadata": {},
   "outputs": [
    {
     "data": {
      "text/plain": [
       "0"
      ]
     },
     "execution_count": 6,
     "metadata": {},
     "output_type": "execute_result"
    }
   ],
   "source": [
    "del feat_new, army_new, Y_new\n",
    "gc.collect()"
   ]
  },
  {
   "cell_type": "code",
   "execution_count": 7,
   "metadata": {
    "tags": []
   },
   "outputs": [
    {
     "name": "stdout",
     "output_type": "stream",
     "text": [
      "[(0, 6), (0, 6), (0, 6), (0, 6), (0, 6), (0, 6), (0, 6), (0, 6), (0, 6), (0, 6), (0, 6), (0, 6), (0, 6), (0, 6), (0, 6), (0, 6), (0, 6), (0, 6), (0, 6), (0, 6), (0, 6), (0, 6), (0, 6), (0, 6), (0, 6), (0, 6), (0, 6), (0, 6), (0, 6), (0, 6), (0, 6), (0, 6), (0, 6), (0, 6), (0, 6), (0, 6), (0, 6), (0, 6), (0, 6), (0, 6), (0, 6), (0, 6), (0, 6), (0, 6), (0, 6), (0, 6), (0, 6), (0, 6), (0, 6), (0, 6), (0, 6), (0, 6), (0, 6), (0, 6), (0, 6), (0, 6), (0, 6), (0, 6), (0, 6), (0, 6), (0, 6), (0, 6), (0, 6), (0, 6), (0, 6), (0, 6), (0, 6), (0, 6), (0, 6), (0, 6), (0, 6), (0, 6), (0, 6), (0, 6), (0, 6), (0, 6), (0, 6), (0, 6), (0, 6), (0, 6), (0, 6), (0, 6), (0, 6), (0, 6), (0, 6), (0, 6), (0, 6), (0, 6), (0, 6), (0, 6), (0, 6), (0, 6), (0, 6), (0, 6), (0, 6), (0, 6), (0, 6), (0, 6), (0, 6), (0, 6), (0, 6), (0, 6), (0, 6), (0, 6), (0, 6), (0, 6), (0, 6), (0, 6), (0, 6), (0, 6), (0, 6), (0, 6), (0, 6), (0, 6), (0, 6), (0, 6), (0, 6), (0, 6), (0, 6), (0, 6), (0, 6), (0, 6), (0, 6), (0, 6), (0, 6), (0, 6), (0, 6), (0, 6), (0, 6), (0, 6), (0, 6), (0, 6), (0, 6), (0, 6), (0, 6), (0, 6), (0, 6), (0, 6), (0, 6), (0, 6), (0, 6), (0, 6), (0, 6), (0, 6), (0, 6), (0, 6), (0, 6), (0, 6), (0, 6), (0, 6), (0, 6), (0, 6), (0, 6), (0, 6), (0, 6), (0, 6), (0, 6), (0, 6), (0, 6), (0, 6), (0, 6), (0, 6), (0, 6), (0, 6), (0, 6), (0, 6), (0, 6), (0, 6), (0, 6), (0, 6), (0, 6), (0, 6), (0, 6), (0, 6), (0, 6), (0, 6), (0, 6), (0, 6), (0, 6), (0, 6), (0, 6), (0, 6), (0, 6), (0, 6), (0, 6), (0, 6), (0, 6), (0, 6), (0, 6), (0, 6), (0, 6), (0, 6), (0, 6), (0, 6), (0, 6), (0, 6), (0, 6), (0, 6), (0, 6), (0, 6), (0, 6), (0, 6), (0, 6), (0, 6), (0, 6), (0, 6), (0, 6), (0, 6), (0, 6), (0, 6), (0, 6), (0, 6), (0, 6), (0, 6), (0, 6), (0, 6), (0, 6), (0, 6), (0, 6), (0, 6), (0, 6), (0, 6), (0, 6), (0, 6), (0, 6), (0, 6), (0, 6), (0, 6), (0, 6), (0, 6), (0, 6), (0, 6), (0, 6), (0, 6), (0, 6), (0, 6), (0, 6), (0, 6), (0, 6), (0, 6), (0, 6), (0, 6), (0, 6), (0, 6), (0, 6), (0, 6), (0, 6)]\n"
     ]
    }
   ],
   "source": [
    "print(Y[0])"
   ]
  },
  {
   "cell_type": "code",
   "execution_count": 8,
   "metadata": {},
   "outputs": [
    {
     "name": "stdout",
     "output_type": "stream",
     "text": [
      "3000\n"
     ]
    }
   ],
   "source": [
    "import numpy as np\n",
    "print(len(feat))\n",
    "def transform_to_numpy(X):\n",
    "    res = []\n",
    "    for item in X:\n",
    "        XX = []\n",
    "        flag=0\n",
    "        for item2 in item:\n",
    "            try:\n",
    "                # print(item2)\n",
    "                # print(\"TRY1: \",get_list_depth(item2),len(item2),)\n",
    "                XX.append(np.array(item2))\n",
    "            except ValueError as e:\n",
    "                print(item2)\n",
    "                # print(\"TRY2: \",get_list_depth(item2),len(item2))\n",
    "                flag=1\n",
    "                break\n",
    "        if flag:\n",
    "            break\n",
    "        res.append(np.array(XX))\n",
    "    return res\n",
    "\n",
    "feat_np = transform_to_numpy(feat)\n",
    "army_np = transform_to_numpy(army)\n",
    "Y_np = []\n",
    "for item in Y:\n",
    "    Y_np.append(np.array(item))\n",
    "# print(Y_np[0])"
   ]
  },
  {
   "cell_type": "code",
   "execution_count": 9,
   "metadata": {},
   "outputs": [
    {
     "data": {
      "text/plain": [
       "0"
      ]
     },
     "execution_count": 9,
     "metadata": {},
     "output_type": "execute_result"
    }
   ],
   "source": [
    "del feat, army, Y\n",
    "gc.collect()"
   ]
  },
  {
   "cell_type": "code",
   "execution_count": 10,
   "metadata": {},
   "outputs": [
    {
     "name": "stderr",
     "output_type": "stream",
     "text": [
      "2024-09-19 22:52:15.730572: I tensorflow/core/util/util.cc:169] oneDNN custom operations are on. You may see slightly different numerical results due to floating-point round-off errors from different computation orders. To turn them off, set the environment variable `TF_ENABLE_ONEDNN_OPTS=0`.\n"
     ]
    }
   ],
   "source": [
    "from tensorflow.keras.preprocessing.sequence import pad_sequences\n",
    "feat_flatten = [[step.flatten() for step in sequence] for sequence in feat_np]\n",
    "feat_padded_flat = pad_sequences(feat_flatten, padding='post', value=-1.0)\n",
    "feat_padded = np.array([np.array([step.reshape(25, 25) for step in sequence]) for sequence in feat_padded_flat])\n",
    "\n",
    "army_flatten = [[step.flatten() for step in sequence] for sequence in army_np]\n",
    "army_padded_flat = pad_sequences(army_flatten, padding='post', value=-1.0)\n",
    "army_padded = np.array([np.array([step.reshape(25, 25) for step in sequence]) for sequence in army_padded_flat])\n",
    "\n",
    "Y_flatten = [[step.flatten() for step in sequence] for sequence in Y_np]\n",
    "Y_padded_flat = pad_sequences(Y_flatten, padding='post', value=-1.0)\n",
    "Y_padded = np.array([np.array([step.reshape(1, 2) for step in sequence]) for sequence in Y_padded_flat])"
   ]
  },
  {
   "cell_type": "code",
   "execution_count": 11,
   "metadata": {},
   "outputs": [
    {
     "data": {
      "text/plain": [
       "0"
      ]
     },
     "execution_count": 11,
     "metadata": {},
     "output_type": "execute_result"
    }
   ],
   "source": [
    "del feat_np,army_np,Y_np\n",
    "gc.collect()"
   ]
  },
  {
   "cell_type": "code",
   "execution_count": 12,
   "metadata": {},
   "outputs": [
    {
     "name": "stdout",
     "output_type": "stream",
     "text": [
      "(3000, 993, 25, 25)\n",
      "(3000, 993, 25, 25)\n",
      "(3000, 993, 1, 2)\n"
     ]
    }
   ],
   "source": [
    "print(feat_padded.shape)\n",
    "print(army_padded.shape)\n",
    "print(Y_padded.shape)"
   ]
  },
  {
   "cell_type": "code",
   "execution_count": 13,
   "metadata": {},
   "outputs": [
    {
     "name": "stderr",
     "output_type": "stream",
     "text": [
      "2024-09-19 22:52:53.946149: I tensorflow/core/platform/cpu_feature_guard.cc:193] This TensorFlow binary is optimized with oneAPI Deep Neural Network Library (oneDNN) to use the following CPU instructions in performance-critical operations:  AVX2 AVX512F AVX512_VNNI FMA\n",
      "To enable them in other operations, rebuild TensorFlow with the appropriate compiler flags.\n",
      "2024-09-19 22:52:54.315055: I tensorflow/core/common_runtime/gpu/gpu_device.cc:1532] Created device /job:localhost/replica:0/task:0/device:GPU:0 with 22134 MB memory:  -> device: 0, name: NVIDIA GeForce RTX 4090, pci bus id: 0000:64:00.0, compute capability: 8.9\n"
     ]
    },
    {
     "name": "stdout",
     "output_type": "stream",
     "text": [
      "Model: \"model\"\n",
      "__________________________________________________________________________________________________\n",
      " Layer (type)                   Output Shape         Param #     Connected to                     \n",
      "==================================================================================================\n",
      " input_1 (InputLayer)           [(None, None, 25, 2  0           []                               \n",
      "                                5, 1)]                                                            \n",
      "                                                                                                  \n",
      " input_2 (InputLayer)           [(None, None, 25, 2  0           []                               \n",
      "                                5, 1)]                                                            \n",
      "                                                                                                  \n",
      " time_distributed (TimeDistribu  (None, None, 23, 23  320        ['input_1[0][0]']                \n",
      " ted)                           , 32)                                                             \n",
      "                                                                                                  \n",
      " time_distributed_2 (TimeDistri  (None, None, 23, 23  320        ['input_2[0][0]']                \n",
      " buted)                         , 32)                                                             \n",
      "                                                                                                  \n",
      " time_distributed_1 (TimeDistri  (None, None, 16928)  0          ['time_distributed[0][0]']       \n",
      " buted)                                                                                           \n",
      "                                                                                                  \n",
      " time_distributed_3 (TimeDistri  (None, None, 16928)  0          ['time_distributed_2[0][0]']     \n",
      " buted)                                                                                           \n",
      "                                                                                                  \n",
      " concatenate (Concatenate)      (None, None, 33856)  0           ['time_distributed_1[0][0]',     \n",
      "                                                                  'time_distributed_3[0][0]']     \n",
      "                                                                                                  \n",
      " lstm (LSTM)                    (None, None, 64)     8683776     ['concatenate[0][0]']            \n",
      "                                                                                                  \n",
      " dense (Dense)                  (None, None, 2)      130         ['lstm[0][0]']                   \n",
      "                                                                                                  \n",
      "==================================================================================================\n",
      "Total params: 8,684,546\n",
      "Trainable params: 8,684,546\n",
      "Non-trainable params: 0\n",
      "__________________________________________________________________________________________________\n"
     ]
    }
   ],
   "source": [
    "import tensorflow as tf\n",
    "from tensorflow.keras.models import Model\n",
    "from tensorflow.keras.layers import Input, Conv2D, Flatten, LSTM, Dense, TimeDistributed, Concatenate\n",
    "from keras import backend as K\n",
    "\n",
    "# model = Sequential()\n",
    "num_values = 10000\n",
    "embedding_dim = 64 \n",
    "\n",
    "input_1 = Input(shape=(None, 25, 25, 1))\n",
    "input_2 = Input(shape=(None, 25, 25, 1))\n",
    "\n",
    "conv1_1 = TimeDistributed(Conv2D(filters=32, kernel_size=(3, 3), activation='relu'))(input_1)\n",
    "conv1_1 = TimeDistributed(Flatten())(conv1_1)\n",
    "\n",
    "conv1_2 = TimeDistributed(Conv2D(filters=32, kernel_size=(3, 3), activation='relu'))(input_2)\n",
    "conv1_2 = TimeDistributed(Flatten())(conv1_2)\n",
    "\n",
    "merged = Concatenate(axis=-1)([conv1_1, conv1_2])\n",
    "lstm_out = LSTM(units=64, return_sequences=True, recurrent_activation='sigmoid')(merged)\n",
    "\n",
    "output = Dense(units=2, activation='linear')(lstm_out)\n",
    "\n",
    "model = Model(inputs=[input_1, input_2], outputs=output)\n",
    "\n",
    "def loss_func(y_true, y_pred):\n",
    "    ignore_steps = 20\n",
    "    y_true = tf.cast(y_true, tf.float32)\n",
    "    \n",
    "    time_steps = tf.shape(y_true)[1]\n",
    "    \n",
    "    mask = tf.reduce_all(tf.equal(y_true, -1), axis=-1)\n",
    "    mask = tf.cast(mask, dtype=tf.float32)\n",
    "    \n",
    "    loss = tf.abs(y_pred[:, ignore_steps:, :] - y_true[:, ignore_steps:, :])\n",
    "    loss = loss * (1 - mask[:, ignore_steps:])[:, :, None]\n",
    "    return tf.reduce_mean(loss)\n",
    "\n",
    "\n",
    "model.compile(optimizer='adam', loss=loss_func)\n",
    "\n",
    "model.summary()"
   ]
  },
  {
   "cell_type": "code",
   "execution_count": 14,
   "metadata": {
    "tags": []
   },
   "outputs": [
    {
     "name": "stdout",
     "output_type": "stream",
     "text": [
      "Looking in indexes: http://mirrors.aliyun.com/pypi/simple\n",
      "Requirement already satisfied: scikit-learn in ./miniconda3/lib/python3.8/site-packages (1.3.2)\n",
      "Requirement already satisfied: joblib>=1.1.1 in ./miniconda3/lib/python3.8/site-packages (from scikit-learn) (1.4.2)\n",
      "Requirement already satisfied: numpy<2.0,>=1.17.3 in ./miniconda3/lib/python3.8/site-packages (from scikit-learn) (1.23.1)\n",
      "Requirement already satisfied: scipy>=1.5.0 in ./miniconda3/lib/python3.8/site-packages (from scikit-learn) (1.10.1)\n",
      "Requirement already satisfied: threadpoolctl>=2.0.0 in ./miniconda3/lib/python3.8/site-packages (from scikit-learn) (3.5.0)\n",
      "\u001b[33mWARNING: Running pip as the 'root' user can result in broken permissions and conflicting behaviour with the system package manager. It is recommended to use a virtual environment instead: https://pip.pypa.io/warnings/venv\u001b[0m\n"
     ]
    }
   ],
   "source": [
    "!pip install scikit-learn"
   ]
  },
  {
   "cell_type": "code",
   "execution_count": 15,
   "metadata": {},
   "outputs": [],
   "source": [
    "from sklearn.model_selection import train_test_split\n",
    "\n",
    "X1_train, X1_test, X2_train, X2_test, y_train, y_test = train_test_split(\n",
    "    feat_padded, army_padded, Y_padded, test_size=0.2, random_state=42\n",
    ")"
   ]
  },
  {
   "cell_type": "code",
   "execution_count": 16,
   "metadata": {},
   "outputs": [
    {
     "data": {
      "text/plain": [
       "3366"
      ]
     },
     "execution_count": 16,
     "metadata": {},
     "output_type": "execute_result"
    }
   ],
   "source": [
    "del feat_padded, army_padded, Y_padded\n",
    "gc.collect()"
   ]
  },
  {
   "cell_type": "code",
   "execution_count": 17,
   "metadata": {},
   "outputs": [
    {
     "name": "stdout",
     "output_type": "stream",
     "text": [
      "(2400, 993, 1, 2)\n"
     ]
    }
   ],
   "source": [
    "print(y_train.shape)"
   ]
  },
  {
   "cell_type": "code",
   "execution_count": 18,
   "metadata": {},
   "outputs": [],
   "source": [
    "y_train = np.squeeze(y_train, axis=2)\n",
    "y_test = np.squeeze(y_test, axis=2)"
   ]
  },
  {
   "cell_type": "code",
   "execution_count": 21,
   "metadata": {},
   "outputs": [
    {
     "name": "stdout",
     "output_type": "stream",
     "text": [
      "(2400, 993, 2)\n"
     ]
    }
   ],
   "source": [
    "print(y_train.shape)"
   ]
  },
  {
   "cell_type": "code",
   "execution_count": 20,
   "metadata": {},
   "outputs": [
    {
     "name": "stdout",
     "output_type": "stream",
     "text": [
      "Epoch 1/10\n"
     ]
    },
    {
     "name": "stderr",
     "output_type": "stream",
     "text": [
      "2024-09-19 22:53:29.684630: I tensorflow/stream_executor/cuda/cuda_dnn.cc:384] Loaded cuDNN version 8101\n",
      "2024-09-19 22:53:31.182022: W tensorflow/stream_executor/gpu/asm_compiler.cc:230] Falling back to the CUDA driver for PTX compilation; ptxas does not support CC 8.9\n",
      "2024-09-19 22:53:31.182047: W tensorflow/stream_executor/gpu/asm_compiler.cc:233] Used ptxas at ptxas\n",
      "2024-09-19 22:53:31.182140: W tensorflow/stream_executor/gpu/redzone_allocator.cc:314] UNIMPLEMENTED: ptxas ptxas too old. Falling back to the driver to compile.\n",
      "Relying on driver to perform ptx compilation. \n",
      "Modify $PATH to customize ptxas location.\n",
      "This message will be only logged once.\n",
      "2024-09-19 22:53:32.532734: I tensorflow/stream_executor/cuda/cuda_blas.cc:1786] TensorFloat-32 will be used for the matrix multiplication. This will only be logged once.\n"
     ]
    },
    {
     "name": "stdout",
     "output_type": "stream",
     "text": [
      "75/75 [==============================] - 37s 224ms/step - loss: 2.0853\n",
      "Epoch 2/10\n",
      "75/75 [==============================] - 15s 206ms/step - loss: 1.8103\n",
      "Epoch 3/10\n",
      "75/75 [==============================] - 22s 300ms/step - loss: 1.6799\n",
      "Epoch 4/10\n",
      "75/75 [==============================] - 20s 267ms/step - loss: 1.5942\n",
      "Epoch 5/10\n",
      "75/75 [==============================] - 15s 205ms/step - loss: 1.5260\n",
      "Epoch 6/10\n",
      "75/75 [==============================] - 17s 228ms/step - loss: 1.4626\n",
      "Epoch 7/10\n",
      "75/75 [==============================] - 20s 272ms/step - loss: 1.3887\n",
      "Epoch 8/10\n",
      "75/75 [==============================] - 16s 211ms/step - loss: 1.2916\n",
      "Epoch 9/10\n",
      "75/75 [==============================] - 17s 220ms/step - loss: 1.1850\n",
      "Epoch 10/10\n",
      "75/75 [==============================] - 19s 258ms/step - loss: 1.0622\n",
      "19/19 [==============================] - 3s 117ms/step - loss: 1.1824\n"
     ]
    },
    {
     "data": {
      "text/plain": [
       "1.1824012994766235"
      ]
     },
     "execution_count": 20,
     "metadata": {},
     "output_type": "execute_result"
    }
   ],
   "source": [
    "model.fit([X1_train, X2_train], y_train, epochs=10, batch_size=32, verbose=1)\n",
    "model.save('model_full.h5')\n",
    "model.evaluate([X1_test, X2_test], y_test, verbose=1)"
   ]
  }
 ],
 "metadata": {
  "kernelspec": {
   "display_name": "Python 3 (ipykernel)",
   "language": "python",
   "name": "python3"
  },
  "language_info": {
   "codemirror_mode": {
    "name": "ipython",
    "version": 3
   },
   "file_extension": ".py",
   "mimetype": "text/x-python",
   "name": "python",
   "nbconvert_exporter": "python",
   "pygments_lexer": "ipython3",
   "version": "3.8.10"
  }
 },
 "nbformat": 4,
 "nbformat_minor": 4
}
