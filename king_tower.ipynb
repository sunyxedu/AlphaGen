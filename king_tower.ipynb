{
 "cells": [
  {
   "cell_type": "code",
   "execution_count": null,
   "metadata": {},
   "outputs": [],
   "source": [
    "import tensorflow as tf\n",
    "from tensorflow.keras.models import Sequential\n",
    "from tensorflow.keras.layers import Conv2D, Flatten, LSTM, Dense, TimeDistributed\n",
    "\n",
    "model = Sequential()\n",
    "model.add(TimeDistributed(Conv2D(filters=32, kernel_size=(3, 3), activation='relu'), input_shape=(t, 25, 25, 2)))\n",
    "model.add(TimeDistributed(Flatten()))\n",
    "model.add(LSTM(units=64, return_sequences=False))\n",
    "model.add(Dense(units=2, activation='linear'))\n",
    "def loss_func(y_true, y_pred):\n",
    "    res=0\n",
    "    for i in range(0,len(y_true)):\n",
    "        res=res+(y_true[i]-y_pred[i])\n",
    "    return res/len(y_true)\n",
    "model.compile(optimizer='adam', loss='mse')\n",
    "model.summary()\n"
   ]
  },
  {
   "cell_type": "code",
   "execution_count": null,
   "metadata": {},
   "outputs": [],
   "source": [
    "model.fit(X_train, y_train, epochs=10, batch_size=32)\n",
    "model.save('model_full.h5')"
   ]
  },
  {
   "cell_type": "code",
   "execution_count": null,
   "metadata": {},
   "outputs": [],
   "source": [
    "predicted_coords = model.predict(X_test)\n"
   ]
  }
 ],
 "metadata": {
  "kernelspec": {
   "display_name": "Python 3",
   "language": "python",
   "name": "python3"
  },
  "language_info": {
   "name": "python",
   "version": "3.11.5"
  }
 },
 "nbformat": 4,
 "nbformat_minor": 2
}
