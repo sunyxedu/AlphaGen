{
 "cells": [
  {
   "cell_type": "code",
   "execution_count": 3,
   "metadata": {},
   "outputs": [
    {
     "name": "stdout",
     "output_type": "stream",
     "text": [
      "23 23\n"
     ]
    }
   ],
   "source": [
    "import os\n",
    "import json\n",
    "import math\n",
    "import pickle\n",
    "\n",
    "Name = ['MeltedToast']\n",
    "mxWid=0\n",
    "mxHei=0\n",
    "for name in Name:\n",
    "    dir=\"/Users/yuxuan/Documents/AlphaGen/Replays/Game_Data/\" + name\n",
    "    replays=os.listdir(dir)\n",
    "    for item in range(len(replays)):\n",
    "        with open (dir+\"/\"+replays[item],\"r\",encoding=\"utf-8\") as file:\n",
    "            data=json.load(file)\n",
    "        mxWid = max(mxWid, data[\"mapWidth\"])\n",
    "        mxHei = max(mxHei, data[\"mapHeight\"])\n",
    "\n",
    "print(mxWid,mxHei)\n",
    "        "
   ]
  }
 ],
 "metadata": {
  "kernelspec": {
   "display_name": "Python 3",
   "language": "python",
   "name": "python3"
  },
  "language_info": {
   "codemirror_mode": {
    "name": "ipython",
    "version": 3
   },
   "file_extension": ".py",
   "mimetype": "text/x-python",
   "name": "python",
   "nbconvert_exporter": "python",
   "pygments_lexer": "ipython3",
   "version": "3.11.5"
  }
 },
 "nbformat": 4,
 "nbformat_minor": 2
}
